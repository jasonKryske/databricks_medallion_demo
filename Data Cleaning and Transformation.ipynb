{
 "cells": [
  {
   "cell_type": "markdown",
   "metadata": {
    "application/vnd.databricks.v1+cell": {
     "cellMetadata": {
      "byteLimit": 2048000,
      "rowLimit": 10000
     },
     "inputWidgets": {},
     "nuid": "4527d541-46d5-4fd2-a9d7-dc6d4d797758",
     "showTitle": false,
     "tableResultSettingsMap": {},
     "title": ""
    }
   },
   "source": [
    "# Demo of Transforming data in Pyspark \n",
    "## Silver Layer of Medallion Architecture"
   ]
  },
  {
   "cell_type": "code",
   "execution_count": 0,
   "metadata": {
    "application/vnd.databricks.v1+cell": {
     "cellMetadata": {
      "byteLimit": 2048000,
      "rowLimit": 10000
     },
     "inputWidgets": {},
     "nuid": "303125f6-1e05-441e-ab7a-05da37354471",
     "showTitle": false,
     "tableResultSettingsMap": {},
     "title": ""
    }
   },
   "outputs": [],
   "source": [
    "from pyspark.sql.functions import *\n",
    "from pyspark.sql.window import Window"
   ]
  },
  {
   "cell_type": "markdown",
   "metadata": {
    "application/vnd.databricks.v1+cell": {
     "cellMetadata": {
      "byteLimit": 2048000,
      "rowLimit": 10000
     },
     "inputWidgets": {},
     "nuid": "f9e7fb9a-936b-4e09-80c5-0545c01d659f",
     "showTitle": false,
     "tableResultSettingsMap": {},
     "title": ""
    }
   },
   "source": [
    "\n",
    "### Load Data"
   ]
  },
  {
   "cell_type": "code",
   "execution_count": 0,
   "metadata": {
    "application/vnd.databricks.v1+cell": {
     "cellMetadata": {
      "byteLimit": 2048000,
      "rowLimit": 10000
     },
     "inputWidgets": {},
     "nuid": "02adc349-4c99-4dd1-bf66-e4493602f2d5",
     "showTitle": false,
     "tableResultSettingsMap": {},
     "title": ""
    }
   },
   "outputs": [],
   "source": [
    "\n",
    "\n",
    "path = 'dbfs:/FileStore/sample_data/dirty_cafe_sales.csv' #Load File Path from FIle Explorer\n",
    "     \n",
    "\n",
    "cafe_df = (spark.read \n",
    "    .format('csv')                          # Format of File Loaded into Databricks\n",
    "    .option('header','true')                # Use first line as header\n",
    "    .option('inferschema',\"true\")           # Infer data types \n",
    "    .load(path))                            # Path to source file\n",
    "     \n"
   ]
  },
  {
   "cell_type": "markdown",
   "metadata": {
    "application/vnd.databricks.v1+cell": {
     "cellMetadata": {
      "byteLimit": 2048000,
      "rowLimit": 10000
     },
     "inputWidgets": {},
     "nuid": "77dcd867-489f-452c-ab61-b05f2400c183",
     "showTitle": false,
     "tableResultSettingsMap": {},
     "title": ""
    }
   },
   "source": [
    "\n",
    "### Data Exploration"
   ]
  },
  {
   "cell_type": "code",
   "execution_count": 0,
   "metadata": {
    "application/vnd.databricks.v1+cell": {
     "cellMetadata": {
      "byteLimit": 2048000,
      "rowLimit": 10000
     },
     "inputWidgets": {},
     "nuid": "8d017938-9850-46f4-ae97-6991e9cf5911",
     "showTitle": false,
     "tableResultSettingsMap": {},
     "title": ""
    }
   },
   "outputs": [
    {
     "output_type": "stream",
     "name": "stdout",
     "output_type": "stream",
     "text": [
      "Total Rows: 10000\nroot\n |-- Transaction ID: string (nullable = true)\n |-- Item: string (nullable = true)\n |-- Quantity: string (nullable = true)\n |-- Price Per Unit: string (nullable = true)\n |-- Total Spent: string (nullable = true)\n |-- Payment Method: string (nullable = true)\n |-- Location: string (nullable = true)\n |-- Transaction Date: string (nullable = true)\n\n+--------------+----+--------+--------------+-----------+--------------+--------+----------------+\n|Transaction ID|Item|Quantity|Price Per Unit|Total Spent|Payment Method|Location|Transaction Date|\n+--------------+----+--------+--------------+-----------+--------------+--------+----------------+\n|         10000|9667|    9862|          9821|       9827|          7421|    6735|            9841|\n+--------------+----+--------+--------------+-----------+--------------+--------+----------------+\n\n"
     ]
    }
   ],
   "source": [
    "print(f\"Total Rows: {cafe_df.count()}\") # Shows the count similar to pandas.info()\n",
    "cafe_df.printSchema() # Show fields, data types, and nullable status\n",
    "cafe_df.agg(*[count(c).alias(c) for c in cafe_df.columns]).show() # Count and print non null values\n"
   ]
  },
  {
   "cell_type": "code",
   "execution_count": 0,
   "metadata": {
    "application/vnd.databricks.v1+cell": {
     "cellMetadata": {
      "byteLimit": 2048000,
      "rowLimit": 10000
     },
     "inputWidgets": {},
     "nuid": "95266ad3-33c8-43be-ab47-4c9c56573d39",
     "showTitle": false,
     "tableResultSettingsMap": {},
     "title": ""
    }
   },
   "outputs": [
    {
     "output_type": "stream",
     "name": "stdout",
     "output_type": "stream",
     "text": [
      "+--------------+----+--------+--------------+-----------+--------------+--------+----------------+\n|Transaction ID|Item|Quantity|Price Per Unit|Total Spent|Payment Method|Location|Transaction Date|\n+--------------+----+--------+--------------+-----------+--------------+--------+----------------+\n|             0| 333|     138|           179|        173|          2579|    3265|             159|\n+--------------+----+--------+--------------+-----------+--------------+--------+----------------+\n\n"
     ]
    }
   ],
   "source": [
    "cafe_df.agg(*[sum(col(c).isNull().cast(\"int\")).alias(c) for c in cafe_df.columns]).show() #Null Ccount. Inverse of previous summary count of non-nulls"
   ]
  },
  {
   "cell_type": "code",
   "execution_count": 0,
   "metadata": {
    "application/vnd.databricks.v1+cell": {
     "cellMetadata": {
      "byteLimit": 2048000,
      "rowLimit": 10000
     },
     "inputWidgets": {},
     "nuid": "aa34468d-24a7-4cde-8ff0-500239aef8db",
     "showTitle": false,
     "tableResultSettingsMap": {},
     "title": ""
    }
   },
   "outputs": [
    {
     "output_type": "stream",
     "name": "stdout",
     "output_type": "stream",
     "text": [
      "+-------+--------------+-------+-----------------+------------------+-----------------+--------------+--------+----------------+\n|summary|Transaction ID|   Item|         Quantity|    Price Per Unit|      Total Spent|Payment Method|Location|Transaction Date|\n+-------+--------------+-------+-----------------+------------------+-----------------+--------------+--------+----------------+\n|  count|         10000|   9667|             9862|              9821|             9827|          7421|    6735|            9841|\n|   mean|          NULL|   NULL|3.028463396702027| 2.949984155487483|8.924352495262161|          NULL|    NULL|            NULL|\n| stddev|          NULL|   NULL|1.419006873221319|1.2784504728035881|6.009919472829945|          NULL|    NULL|            NULL|\n|    min|   TXN_1000555|   Cake|                1|               1.0|              1.0|          Cash|   ERROR|      2023-01-01|\n|    max|   TXN_9999124|UNKNOWN|          UNKNOWN|           UNKNOWN|          UNKNOWN|       UNKNOWN| UNKNOWN|         UNKNOWN|\n+-------+--------------+-------+-----------------+------------------+-----------------+--------------+--------+----------------+\n\n"
     ]
    }
   ],
   "source": [
    "cafe_df.describe().show() # Summary statistics "
   ]
  },
  {
   "cell_type": "code",
   "execution_count": 0,
   "metadata": {
    "application/vnd.databricks.v1+cell": {
     "cellMetadata": {
      "byteLimit": 2048000,
      "rowLimit": 10000
     },
     "inputWidgets": {},
     "nuid": "e7aef7cb-bc1f-4faf-9f91-38cc5f1397f3",
     "showTitle": false,
     "tableResultSettingsMap": {},
     "title": ""
    }
   },
   "outputs": [
    {
     "output_type": "execute_result",
     "data": {
      "text/plain": [
       "10000"
      ]
     },
     "execution_count": 233,
     "metadata": {},
     "output_type": "execute_result"
    }
   ],
   "source": [
    "cafe_df.count() # Total Number of Rows"
   ]
  },
  {
   "cell_type": "code",
   "execution_count": 0,
   "metadata": {
    "application/vnd.databricks.v1+cell": {
     "cellMetadata": {
      "byteLimit": 2048000,
      "rowLimit": 10000
     },
     "inputWidgets": {},
     "nuid": "f242d7b2-2af3-41d1-99ab-10a80e75e0dd",
     "showTitle": false,
     "tableResultSettingsMap": {},
     "title": ""
    }
   },
   "outputs": [
    {
     "output_type": "stream",
     "name": "stdout",
     "output_type": "stream",
     "text": [
      "Total Rows: 10000\nroot\n |-- Transaction ID: string (nullable = true)\n |-- Item: string (nullable = true)\n |-- Quantity: string (nullable = true)\n |-- Price Per Unit: string (nullable = true)\n |-- Total Spent: string (nullable = true)\n |-- Payment Method: string (nullable = true)\n |-- Location: string (nullable = true)\n |-- Transaction Date: string (nullable = true)\n\n"
     ]
    }
   ],
   "source": [
    "print(f\"Total Rows: {cafe_df.count()}\")\n",
    "cafe_df.printSchema()\n"
   ]
  },
  {
   "cell_type": "code",
   "execution_count": 0,
   "metadata": {
    "application/vnd.databricks.v1+cell": {
     "cellMetadata": {
      "byteLimit": 2048000,
      "rowLimit": 10000
     },
     "inputWidgets": {},
     "nuid": "5817ff85-d16a-4b5b-9bd2-9fdef90940c2",
     "showTitle": false,
     "tableResultSettingsMap": {},
     "title": ""
    }
   },
   "outputs": [
    {
     "output_type": "stream",
     "name": "stdout",
     "output_type": "stream",
     "text": [
      "+--------------+----+--------+--------------+-----------+--------------+--------+----------------+\n|Transaction ID|Item|Quantity|Price Per Unit|Total Spent|Payment Method|Location|Transaction Date|\n+--------------+----+--------+--------------+-----------+--------------+--------+----------------+\n|         10000|  10|       7|             8|         19|             5|       4|             367|\n+--------------+----+--------+--------------+-----------+--------------+--------+----------------+\n\n"
     ]
    }
   ],
   "source": [
    "\n",
    "cafe_df.agg(*[countDistinct(c).alias(c) for c in cafe_df.columns]).show() # Count number of unique values. Can use approx_count_distinct on larger datasets\n"
   ]
  },
  {
   "cell_type": "code",
   "execution_count": 0,
   "metadata": {
    "application/vnd.databricks.v1+cell": {
     "cellMetadata": {
      "byteLimit": 2048000,
      "rowLimit": 10000
     },
     "inputWidgets": {},
     "nuid": "832b388b-c074-4742-b392-212ee8a6aff4",
     "showTitle": false,
     "tableResultSettingsMap": {},
     "title": ""
    }
   },
   "outputs": [
    {
     "output_type": "stream",
     "name": "stdout",
     "output_type": "stream",
     "text": [
      "+--------------------+--------------------+--------------------+--------------------+--------------------+--------------------+--------------------+--------------------+\n|      Transaction ID|                Item|            Quantity|      Price Per Unit|         Total Spent|      Payment Method|            Location|    Transaction Date|\n+--------------------+--------------------+--------------------+--------------------+--------------------+--------------------+--------------------+--------------------+\n|[TXN_4625910, TXN...|[ERROR, Coffee, U...|[ERROR, 3, 1, UNK...|[ERROR, 5.0, UNKN...|[9.0, 10.0, 16.0,...|[ERROR, Credit Ca...|[ERROR, UNKNOWN, ...|[2023-02-18, 2023...|\n+--------------------+--------------------+--------------------+--------------------+--------------------+--------------------+--------------------+--------------------+\n\n"
     ]
    }
   ],
   "source": [
    "#display(cafe_df.agg(*[collect_set(c).alias(c) for c in cafe_df.columns]))  Use Display so you can see the full lis\n",
    "#unique_values.show(truncate=False)  # Prevents cutting off long lists\n",
    "cafe_df.agg(*[collect_set(c).alias(c) for c in cafe_df.columns]).show()"
   ]
  },
  {
   "cell_type": "code",
   "execution_count": 0,
   "metadata": {
    "application/vnd.databricks.v1+cell": {
     "cellMetadata": {
      "byteLimit": 2048000,
      "rowLimit": 10000
     },
     "inputWidgets": {},
     "nuid": "653d71a3-9025-4d19-8fb8-6b3187ecbece",
     "showTitle": false,
     "tableResultSettingsMap": {},
     "title": ""
    }
   },
   "outputs": [
    {
     "output_type": "display_data",
     "data": {
      "text/html": [
       "<style scoped>\n",
       "  .table-result-container {\n",
       "    max-height: 300px;\n",
       "    overflow: auto;\n",
       "  }\n",
       "  table, th, td {\n",
       "    border: 1px solid black;\n",
       "    border-collapse: collapse;\n",
       "  }\n",
       "  th, td {\n",
       "    padding: 5px;\n",
       "  }\n",
       "  th {\n",
       "    text-align: left;\n",
       "  }\n",
       "</style><div class='table-result-container'><table class='table-result'><thead style='background-color: white'><tr><th>Transaction ID</th><th>Item</th><th>Quantity</th><th>Price Per Unit</th><th>Total Spent</th><th>Payment Method</th><th>Location</th><th>Transaction Date</th></tr></thead><tbody><tr><td>TXN_1961373</td><td>Coffee</td><td>2</td><td>2.0</td><td>4.0</td><td>Credit Card</td><td>Takeaway</td><td>2023-09-08</td></tr><tr><td>TXN_4977031</td><td>Cake</td><td>4</td><td>3.0</td><td>12.0</td><td>Cash</td><td>In-store</td><td>2023-05-16</td></tr><tr><td>TXN_4271903</td><td>Cookie</td><td>4</td><td>1.0</td><td>ERROR</td><td>Credit Card</td><td>In-store</td><td>2023-07-19</td></tr><tr><td>TXN_7034554</td><td>Salad</td><td>2</td><td>5.0</td><td>10.0</td><td>UNKNOWN</td><td>UNKNOWN</td><td>2023-04-27</td></tr><tr><td>TXN_3160411</td><td>Coffee</td><td>2</td><td>2.0</td><td>4.0</td><td>Digital Wallet</td><td>In-store</td><td>2023-06-11</td></tr><tr><td>TXN_2602893</td><td>Smoothie</td><td>5</td><td>4.0</td><td>20.0</td><td>Credit Card</td><td>null</td><td>2023-03-31</td></tr><tr><td>TXN_4433211</td><td>UNKNOWN</td><td>3</td><td>3.0</td><td>9.0</td><td>ERROR</td><td>Takeaway</td><td>2023-10-06</td></tr><tr><td>TXN_6699534</td><td>Sandwich</td><td>4</td><td>4.0</td><td>16.0</td><td>Cash</td><td>UNKNOWN</td><td>2023-10-28</td></tr><tr><td>TXN_4717867</td><td>null</td><td>5</td><td>3.0</td><td>15.0</td><td>null</td><td>Takeaway</td><td>2023-07-28</td></tr><tr><td>TXN_2064365</td><td>Sandwich</td><td>5</td><td>4.0</td><td>20.0</td><td>null</td><td>In-store</td><td>2023-12-31</td></tr></tbody></table></div>"
      ]
     },
     "metadata": {
      "application/vnd.databricks.v1+output": {
       "addedWidgets": {},
       "aggData": [],
       "aggError": "",
       "aggOverflow": false,
       "aggSchema": [],
       "aggSeriesLimitReached": false,
       "aggType": "",
       "arguments": {},
       "columnCustomDisplayInfos": {},
       "data": [
        [
         "TXN_1961373",
         "Coffee",
         "2",
         "2.0",
         "4.0",
         "Credit Card",
         "Takeaway",
         "2023-09-08"
        ],
        [
         "TXN_4977031",
         "Cake",
         "4",
         "3.0",
         "12.0",
         "Cash",
         "In-store",
         "2023-05-16"
        ],
        [
         "TXN_4271903",
         "Cookie",
         "4",
         "1.0",
         "ERROR",
         "Credit Card",
         "In-store",
         "2023-07-19"
        ],
        [
         "TXN_7034554",
         "Salad",
         "2",
         "5.0",
         "10.0",
         "UNKNOWN",
         "UNKNOWN",
         "2023-04-27"
        ],
        [
         "TXN_3160411",
         "Coffee",
         "2",
         "2.0",
         "4.0",
         "Digital Wallet",
         "In-store",
         "2023-06-11"
        ],
        [
         "TXN_2602893",
         "Smoothie",
         "5",
         "4.0",
         "20.0",
         "Credit Card",
         null,
         "2023-03-31"
        ],
        [
         "TXN_4433211",
         "UNKNOWN",
         "3",
         "3.0",
         "9.0",
         "ERROR",
         "Takeaway",
         "2023-10-06"
        ],
        [
         "TXN_6699534",
         "Sandwich",
         "4",
         "4.0",
         "16.0",
         "Cash",
         "UNKNOWN",
         "2023-10-28"
        ],
        [
         "TXN_4717867",
         null,
         "5",
         "3.0",
         "15.0",
         null,
         "Takeaway",
         "2023-07-28"
        ],
        [
         "TXN_2064365",
         "Sandwich",
         "5",
         "4.0",
         "20.0",
         null,
         "In-store",
         "2023-12-31"
        ]
       ],
       "datasetInfos": [],
       "dbfsResultPath": null,
       "isJsonSchema": true,
       "metadata": {},
       "overflow": false,
       "plotOptions": {
        "customPlotOptions": {},
        "displayType": "table",
        "pivotAggregation": null,
        "pivotColumns": null,
        "xColumns": null,
        "yColumns": null
       },
       "removedWidgets": [],
       "schema": [
        {
         "metadata": "{}",
         "name": "Transaction ID",
         "type": "\"string\""
        },
        {
         "metadata": "{}",
         "name": "Item",
         "type": "\"string\""
        },
        {
         "metadata": "{}",
         "name": "Quantity",
         "type": "\"string\""
        },
        {
         "metadata": "{}",
         "name": "Price Per Unit",
         "type": "\"string\""
        },
        {
         "metadata": "{}",
         "name": "Total Spent",
         "type": "\"string\""
        },
        {
         "metadata": "{}",
         "name": "Payment Method",
         "type": "\"string\""
        },
        {
         "metadata": "{}",
         "name": "Location",
         "type": "\"string\""
        },
        {
         "metadata": "{}",
         "name": "Transaction Date",
         "type": "\"string\""
        }
       ],
       "type": "table"
      }
     },
     "output_type": "display_data"
    }
   ],
   "source": [
    "display(cafe_df.head(10))\n"
   ]
  },
  {
   "cell_type": "markdown",
   "metadata": {
    "application/vnd.databricks.v1+cell": {
     "cellMetadata": {
      "byteLimit": 2048000,
      "rowLimit": 10000
     },
     "inputWidgets": {},
     "nuid": "4de677af-19f8-4826-8265-45939fb00366",
     "showTitle": false,
     "tableResultSettingsMap": {},
     "title": ""
    }
   },
   "source": [
    "### Data Transformation"
   ]
  },
  {
   "cell_type": "markdown",
   "metadata": {
    "application/vnd.databricks.v1+cell": {
     "cellMetadata": {
      "byteLimit": 2048000,
      "rowLimit": 10000
     },
     "inputWidgets": {},
     "nuid": "59a9a0e5-a0af-4520-9261-a69c99719fec",
     "showTitle": false,
     "tableResultSettingsMap": {},
     "title": ""
    }
   },
   "source": [
    "#### Fix Corrupt Data"
   ]
  },
  {
   "cell_type": "code",
   "execution_count": 0,
   "metadata": {
    "application/vnd.databricks.v1+cell": {
     "cellMetadata": {
      "byteLimit": 2048000,
      "rowLimit": 10000
     },
     "inputWidgets": {},
     "nuid": "d4b75340-6cfa-4966-ac76-99ce8fc4dd06",
     "showTitle": false,
     "tableResultSettingsMap": {},
     "title": ""
    }
   },
   "outputs": [],
   "source": [
    "error_values = ['ERROR', \"UNKNOWN\"]\n",
    "\n",
    "cafe_df = cafe_df \\\n",
    "            .select(\n",
    "                    [when(col(c).isin(error_values), None).otherwise(col(c)).alias(c) for c in cafe_df.columns]  # Standardize missing values so everything is a null value\n",
    "                    )"
   ]
  },
  {
   "cell_type": "code",
   "execution_count": 0,
   "metadata": {
    "application/vnd.databricks.v1+cell": {
     "cellMetadata": {
      "byteLimit": 2048000,
      "rowLimit": 10000
     },
     "inputWidgets": {},
     "nuid": "fd0f770d-a958-45de-8756-fed3305a90c2",
     "showTitle": false,
     "tableResultSettingsMap": {},
     "title": ""
    }
   },
   "outputs": [
    {
     "output_type": "display_data",
     "data": {
      "text/html": [
       "<style scoped>\n",
       "  .table-result-container {\n",
       "    max-height: 300px;\n",
       "    overflow: auto;\n",
       "  }\n",
       "  table, th, td {\n",
       "    border: 1px solid black;\n",
       "    border-collapse: collapse;\n",
       "  }\n",
       "  th, td {\n",
       "    padding: 5px;\n",
       "  }\n",
       "  th {\n",
       "    text-align: left;\n",
       "  }\n",
       "</style><div class='table-result-container'><table class='table-result'><thead style='background-color: white'><tr><th>Transaction ID</th><th>Item</th><th>Quantity</th><th>Price Per Unit</th><th>Total Spent</th><th>Payment Method</th><th>Location</th><th>Transaction Date</th></tr></thead><tbody><tr><td>TXN_1961373</td><td>Coffee</td><td>2</td><td>2.0</td><td>4.0</td><td>Credit Card</td><td>Takeaway</td><td>2023-09-08</td></tr><tr><td>TXN_4977031</td><td>Cake</td><td>4</td><td>3.0</td><td>12.0</td><td>Cash</td><td>In-store</td><td>2023-05-16</td></tr><tr><td>TXN_4271903</td><td>Cookie</td><td>4</td><td>1.0</td><td>null</td><td>Credit Card</td><td>In-store</td><td>2023-07-19</td></tr><tr><td>TXN_7034554</td><td>Salad</td><td>2</td><td>5.0</td><td>10.0</td><td>null</td><td>null</td><td>2023-04-27</td></tr><tr><td>TXN_3160411</td><td>Coffee</td><td>2</td><td>2.0</td><td>4.0</td><td>Digital Wallet</td><td>In-store</td><td>2023-06-11</td></tr><tr><td>TXN_2602893</td><td>Smoothie</td><td>5</td><td>4.0</td><td>20.0</td><td>Credit Card</td><td>null</td><td>2023-03-31</td></tr><tr><td>TXN_4433211</td><td>null</td><td>3</td><td>3.0</td><td>9.0</td><td>null</td><td>Takeaway</td><td>2023-10-06</td></tr><tr><td>TXN_6699534</td><td>Sandwich</td><td>4</td><td>4.0</td><td>16.0</td><td>Cash</td><td>null</td><td>2023-10-28</td></tr><tr><td>TXN_4717867</td><td>null</td><td>5</td><td>3.0</td><td>15.0</td><td>null</td><td>Takeaway</td><td>2023-07-28</td></tr><tr><td>TXN_2064365</td><td>Sandwich</td><td>5</td><td>4.0</td><td>20.0</td><td>null</td><td>In-store</td><td>2023-12-31</td></tr></tbody></table></div>"
      ]
     },
     "metadata": {
      "application/vnd.databricks.v1+output": {
       "addedWidgets": {},
       "aggData": [],
       "aggError": "",
       "aggOverflow": false,
       "aggSchema": [],
       "aggSeriesLimitReached": false,
       "aggType": "",
       "arguments": {},
       "columnCustomDisplayInfos": {},
       "data": [
        [
         "TXN_1961373",
         "Coffee",
         "2",
         "2.0",
         "4.0",
         "Credit Card",
         "Takeaway",
         "2023-09-08"
        ],
        [
         "TXN_4977031",
         "Cake",
         "4",
         "3.0",
         "12.0",
         "Cash",
         "In-store",
         "2023-05-16"
        ],
        [
         "TXN_4271903",
         "Cookie",
         "4",
         "1.0",
         null,
         "Credit Card",
         "In-store",
         "2023-07-19"
        ],
        [
         "TXN_7034554",
         "Salad",
         "2",
         "5.0",
         "10.0",
         null,
         null,
         "2023-04-27"
        ],
        [
         "TXN_3160411",
         "Coffee",
         "2",
         "2.0",
         "4.0",
         "Digital Wallet",
         "In-store",
         "2023-06-11"
        ],
        [
         "TXN_2602893",
         "Smoothie",
         "5",
         "4.0",
         "20.0",
         "Credit Card",
         null,
         "2023-03-31"
        ],
        [
         "TXN_4433211",
         null,
         "3",
         "3.0",
         "9.0",
         null,
         "Takeaway",
         "2023-10-06"
        ],
        [
         "TXN_6699534",
         "Sandwich",
         "4",
         "4.0",
         "16.0",
         "Cash",
         null,
         "2023-10-28"
        ],
        [
         "TXN_4717867",
         null,
         "5",
         "3.0",
         "15.0",
         null,
         "Takeaway",
         "2023-07-28"
        ],
        [
         "TXN_2064365",
         "Sandwich",
         "5",
         "4.0",
         "20.0",
         null,
         "In-store",
         "2023-12-31"
        ]
       ],
       "datasetInfos": [],
       "dbfsResultPath": null,
       "isJsonSchema": true,
       "metadata": {},
       "overflow": false,
       "plotOptions": {
        "customPlotOptions": {},
        "displayType": "table",
        "pivotAggregation": null,
        "pivotColumns": null,
        "xColumns": null,
        "yColumns": null
       },
       "removedWidgets": [],
       "schema": [
        {
         "metadata": "{}",
         "name": "Transaction ID",
         "type": "\"string\""
        },
        {
         "metadata": "{}",
         "name": "Item",
         "type": "\"string\""
        },
        {
         "metadata": "{}",
         "name": "Quantity",
         "type": "\"string\""
        },
        {
         "metadata": "{}",
         "name": "Price Per Unit",
         "type": "\"string\""
        },
        {
         "metadata": "{}",
         "name": "Total Spent",
         "type": "\"string\""
        },
        {
         "metadata": "{}",
         "name": "Payment Method",
         "type": "\"string\""
        },
        {
         "metadata": "{}",
         "name": "Location",
         "type": "\"string\""
        },
        {
         "metadata": "{}",
         "name": "Transaction Date",
         "type": "\"string\""
        }
       ],
       "type": "table"
      }
     },
     "output_type": "display_data"
    }
   ],
   "source": [
    "display(cafe_df.head(10))"
   ]
  },
  {
   "cell_type": "code",
   "execution_count": 0,
   "metadata": {
    "application/vnd.databricks.v1+cell": {
     "cellMetadata": {
      "byteLimit": 2048000,
      "rowLimit": 10000
     },
     "inputWidgets": {},
     "nuid": "4f767776-36aa-4d22-8dda-07efd4b8c6c6",
     "showTitle": false,
     "tableResultSettingsMap": {},
     "title": ""
    }
   },
   "outputs": [
    {
     "output_type": "stream",
     "name": "stdout",
     "output_type": "stream",
     "text": [
      "+--------------+----+--------+--------------+-----------+--------------+--------+----------------+\n|Transaction ID|Item|Quantity|Price Per Unit|Total Spent|Payment Method|Location|Transaction Date|\n+--------------+----+--------+--------------+-----------+--------------+--------+----------------+\n|             0| 969|     479|           533|        502|          3178|    3961|             460|\n+--------------+----+--------+--------------+-----------+--------------+--------+----------------+\n\n"
     ]
    }
   ],
   "source": [
    "cafe_df.agg(*[sum(col(c).isNull().cast(\"int\")).alias(c) for c in cafe_df.columns]).show() # Recount of Null values now that errors and unknowns are null values"
   ]
  },
  {
   "cell_type": "code",
   "execution_count": 0,
   "metadata": {
    "application/vnd.databricks.v1+cell": {
     "cellMetadata": {
      "byteLimit": 2048000,
      "rowLimit": 10000
     },
     "inputWidgets": {},
     "nuid": "8678ff51-9944-4b9c-a873-1a734e61b456",
     "showTitle": false,
     "tableResultSettingsMap": {},
     "title": ""
    }
   },
   "outputs": [
    {
     "output_type": "stream",
     "name": "stdout",
     "output_type": "stream",
     "text": [
      "+--------+\n|    Item|\n+--------+\n|   Salad|\n|     Tea|\n|    NULL|\n|Sandwich|\n|   Juice|\n|Smoothie|\n|  Coffee|\n|    Cake|\n|  Cookie|\n+--------+\n\n"
     ]
    }
   ],
   "source": [
    "cafe_df.select('Item').distinct().show()"
   ]
  },
  {
   "cell_type": "code",
   "execution_count": 0,
   "metadata": {
    "application/vnd.databricks.v1+cell": {
     "cellMetadata": {
      "byteLimit": 2048000,
      "rowLimit": 10000
     },
     "inputWidgets": {},
     "nuid": "d1f2754d-f414-48cb-8ce9-b16fc3774069",
     "showTitle": false,
     "tableResultSettingsMap": {},
     "title": ""
    }
   },
   "outputs": [
    {
     "output_type": "stream",
     "name": "stdout",
     "output_type": "stream",
     "text": [
      "+--------------+\n|Price Per Unit|\n+--------------+\n|           1.0|\n|          NULL|\n|           5.0|\n|           4.0|\n|           1.5|\n|           2.0|\n|           3.0|\n+--------------+\n\n"
     ]
    }
   ],
   "source": [
    "cafe_df.select('Price Per Unit').distinct().show()"
   ]
  },
  {
   "cell_type": "code",
   "execution_count": 0,
   "metadata": {
    "application/vnd.databricks.v1+cell": {
     "cellMetadata": {
      "byteLimit": 2048000,
      "rowLimit": 10000
     },
     "inputWidgets": {},
     "nuid": "8a00c803-caca-49e6-9c12-046ab78168a3",
     "showTitle": false,
     "tableResultSettingsMap": {},
     "title": ""
    }
   },
   "outputs": [
    {
     "output_type": "stream",
     "name": "stdout",
     "output_type": "stream",
     "text": [
      "+--------+--------------+\n|    Item|Price Per Unit|\n+--------+--------------+\n|    NULL|           1.0|\n|   Salad|          NULL|\n|     Tea|          NULL|\n|Sandwich|           4.0|\n|    NULL|          NULL|\n|Sandwich|          NULL|\n|   Juice|           3.0|\n|    NULL|           5.0|\n|   Juice|          NULL|\n|    NULL|           4.0|\n|     Tea|           1.5|\n|Smoothie|          NULL|\n|  Coffee|          NULL|\n|    Cake|           3.0|\n|    NULL|           1.5|\n|    NULL|           2.0|\n|    Cake|          NULL|\n|Smoothie|           4.0|\n|  Cookie|          NULL|\n|    NULL|           3.0|\n|  Cookie|           1.0|\n|  Coffee|           2.0|\n|   Salad|           5.0|\n+--------+--------------+\n\n"
     ]
    }
   ],
   "source": [
    "cafe_df.select('Item','Price Per Unit').distinct().show(n=100) # This allows us to deduce what the null values should be in some instances"
   ]
  },
  {
   "cell_type": "code",
   "execution_count": 0,
   "metadata": {
    "application/vnd.databricks.v1+cell": {
     "cellMetadata": {
      "byteLimit": 2048000,
      "rowLimit": 10000
     },
     "inputWidgets": {},
     "nuid": "d94d17ee-65b6-4c5f-bd29-4db6006cc148",
     "showTitle": false,
     "tableResultSettingsMap": {},
     "title": ""
    }
   },
   "outputs": [
    {
     "output_type": "stream",
     "name": "stdout",
     "output_type": "stream",
     "text": [
      "+--------+--------------+\n|    Item|Price Per Unit|\n+--------+--------------+\n|    NULL|           1.0|\n|Sandwich|           4.0|\n|    NULL|          NULL|\n|   Juice|           3.0|\n|    NULL|           5.0|\n|    NULL|           4.0|\n|     Tea|           1.5|\n|    Cake|           3.0|\n|    NULL|           1.5|\n|    NULL|           2.0|\n|Smoothie|           4.0|\n|    NULL|           3.0|\n|  Cookie|           1.0|\n|  Coffee|           2.0|\n|   Salad|           5.0|\n+--------+--------------+\n\n"
     ]
    }
   ],
   "source": [
    "\n",
    "\n",
    "cafe_df = cafe_df.withColumn(\n",
    "    \"Price Per Unit\",  \n",
    "    when(col(\"Item\") == \"Sandwich\", 4.0)\n",
    "    .when(col(\"Item\") == \"Tea\", 1.5)\n",
    "    .when(col(\"Item\") == \"Juice\", 3.0)\n",
    "    .when(col(\"Item\") == \"Cake\", 3.0)\n",
    "    .when(col(\"Item\") == \"Cookie\", 1.0)\n",
    "    .when(col(\"Item\") == \"Salad\", 5.0)\n",
    "    .when(col(\"Item\") == \"Smoothie\", 4.0)\n",
    "    .when(col(\"Item\") == \"Coffee\", 2.0)\n",
    "    .otherwise(col(\"Price Per Unit\"))  \n",
    ")\n",
    "\n",
    "cafe_df.select('Item','Price Per Unit').distinct().show()\n"
   ]
  },
  {
   "cell_type": "code",
   "execution_count": 0,
   "metadata": {
    "application/vnd.databricks.v1+cell": {
     "cellMetadata": {
      "byteLimit": 2048000,
      "rowLimit": 10000
     },
     "inputWidgets": {},
     "nuid": "982c0c18-50ca-41e0-8347-a6ae02f92c54",
     "showTitle": false,
     "tableResultSettingsMap": {},
     "title": ""
    }
   },
   "outputs": [
    {
     "output_type": "execute_result",
     "data": {
      "text/plain": [
       "[('Transaction ID', 'string'),\n",
       " ('Item', 'string'),\n",
       " ('Quantity', 'string'),\n",
       " ('Price Per Unit', 'string'),\n",
       " ('Total Spent', 'string'),\n",
       " ('Payment Method', 'string'),\n",
       " ('Location', 'string'),\n",
       " ('Transaction Date', 'string')]"
      ]
     },
     "execution_count": 245,
     "metadata": {},
     "output_type": "execute_result"
    }
   ],
   "source": [
    "cafe_df.dtypes"
   ]
  },
  {
   "cell_type": "code",
   "execution_count": 0,
   "metadata": {
    "application/vnd.databricks.v1+cell": {
     "cellMetadata": {
      "byteLimit": 2048000,
      "rowLimit": 10000
     },
     "inputWidgets": {},
     "nuid": "fc6632c8-f91d-45db-86b2-414589e440e4",
     "showTitle": false,
     "tableResultSettingsMap": {},
     "title": ""
    }
   },
   "outputs": [
    {
     "output_type": "stream",
     "name": "stdout",
     "output_type": "stream",
     "text": [
      "+--------------------+--------------+\n|                Item|Price Per Unit|\n+--------------------+--------------+\n|            Sandwich|           4.0|\n|                NULL|          NULL|\n|               Juice|           3.0|\n|                 Tea|           1.5|\n|       Juice or Cake|           3.0|\n|                Cake|           3.0|\n|Smoothie or Sandw...|           4.0|\n|            Smoothie|           4.0|\n|              Cookie|           1.0|\n|              Coffee|           2.0|\n|               Salad|           5.0|\n+--------------------+--------------+\n\n"
     ]
    }
   ],
   "source": [
    "from pyspark.sql.functions import when, col\n",
    "\n",
    "cafe_df = cafe_df.withColumn(\n",
    "    \"Item\",  \n",
    "    when(col(\"Price Per Unit\") == 1.5, \"Tea\")\n",
    "    .when(col(\"Price Per Unit\") == 1.0, \"Cookie\")\n",
    "    .when(col(\"Price Per Unit\") == 2.0, \"Coffee\")\n",
    "    .when(col(\"Price Per Unit\") == 5.0, \"Salad\")\n",
    "    .when((col(\"Price Per Unit\") == 3.0) & (col(\"Item\").isNull()), \"Juice or Cake\")\n",
    "    .when((col(\"Price Per Unit\") == 4.0) & (col(\"Item\").isNull()), \"Smoothie or Sandwitch\")  \n",
    "    .otherwise(col(\"Item\"))\n",
    ")\n",
    "\n",
    "cafe_df.select(\"Item\", \"Price Per Unit\").distinct().show()\n"
   ]
  },
  {
   "cell_type": "code",
   "execution_count": 0,
   "metadata": {
    "application/vnd.databricks.v1+cell": {
     "cellMetadata": {
      "byteLimit": 2048000,
      "rowLimit": 10000
     },
     "inputWidgets": {},
     "nuid": "8d819769-7eec-45fc-9991-9b761d571803",
     "showTitle": false,
     "tableResultSettingsMap": {},
     "title": ""
    }
   },
   "outputs": [],
   "source": [
    "cafe_df = cafe_df.filter(col(\"Item\").isNotNull())"
   ]
  },
  {
   "cell_type": "code",
   "execution_count": 0,
   "metadata": {
    "application/vnd.databricks.v1+cell": {
     "cellMetadata": {
      "byteLimit": 2048000,
      "rowLimit": 10000
     },
     "inputWidgets": {},
     "nuid": "bb3d8109-eb2a-433c-93b0-6a2f8b78533d",
     "showTitle": false,
     "tableResultSettingsMap": {},
     "title": ""
    }
   },
   "outputs": [
    {
     "output_type": "stream",
     "name": "stdout",
     "output_type": "stream",
     "text": [
      "+--------------------+--------------+\n|                Item|Price Per Unit|\n+--------------------+--------------+\n|            Sandwich|           4.0|\n|               Juice|           3.0|\n|                 Tea|           1.5|\n|       Juice or Cake|           3.0|\n|                Cake|           3.0|\n|Smoothie or Sandw...|           4.0|\n|            Smoothie|           4.0|\n|              Cookie|           1.0|\n|              Coffee|           2.0|\n|               Salad|           5.0|\n+--------------------+--------------+\n\n"
     ]
    }
   ],
   "source": [
    "cafe_df.select(\"Item\", \"Price Per Unit\").distinct().show()"
   ]
  },
  {
   "cell_type": "code",
   "execution_count": 0,
   "metadata": {
    "application/vnd.databricks.v1+cell": {
     "cellMetadata": {
      "byteLimit": 2048000,
      "rowLimit": 10000
     },
     "inputWidgets": {},
     "nuid": "c75ac328-d8d8-4d14-8418-96a4e353bef9",
     "showTitle": false,
     "tableResultSettingsMap": {},
     "title": ""
    }
   },
   "outputs": [
    {
     "output_type": "stream",
     "name": "stdout",
     "output_type": "stream",
     "text": [
      "+--------------+\n|Payment Method|\n+--------------+\n|   Credit Card|\n|          NULL|\n|Digital Wallet|\n|          Cash|\n+--------------+\n\n"
     ]
    }
   ],
   "source": [
    "cafe_df.select(\"Payment Method\").distinct().show()"
   ]
  },
  {
   "cell_type": "code",
   "execution_count": 0,
   "metadata": {
    "application/vnd.databricks.v1+cell": {
     "cellMetadata": {
      "byteLimit": 2048000,
      "rowLimit": 10000
     },
     "inputWidgets": {},
     "nuid": "6d2614d5-f9e8-49c9-b809-ff6709cbac45",
     "showTitle": false,
     "tableResultSettingsMap": {},
     "title": ""
    }
   },
   "outputs": [
    {
     "output_type": "stream",
     "name": "stdout",
     "output_type": "stream",
     "text": [
      "+--------+\n|Location|\n+--------+\n|In-store|\n|    NULL|\n|Takeaway|\n+--------+\n\n"
     ]
    }
   ],
   "source": [
    "cafe_df.select(\"Location\").distinct().show()"
   ]
  },
  {
   "cell_type": "code",
   "execution_count": 0,
   "metadata": {
    "application/vnd.databricks.v1+cell": {
     "cellMetadata": {
      "byteLimit": 2048000,
      "rowLimit": 10000
     },
     "inputWidgets": {},
     "nuid": "406a60fb-3ecf-4ba1-b011-3b27292c936d",
     "showTitle": false,
     "tableResultSettingsMap": {},
     "title": ""
    }
   },
   "outputs": [],
   "source": [
    "cafe_df = cafe_df.fillna({\"Payment Method\":\"Unknown\", \"Location\":\"Unknown\"})"
   ]
  },
  {
   "cell_type": "code",
   "execution_count": 0,
   "metadata": {
    "application/vnd.databricks.v1+cell": {
     "cellMetadata": {
      "byteLimit": 2048000,
      "rowLimit": 10000
     },
     "inputWidgets": {},
     "nuid": "c0f4b22e-f79c-4f35-92a2-68e9ab488150",
     "showTitle": false,
     "tableResultSettingsMap": {},
     "title": ""
    }
   },
   "outputs": [
    {
     "output_type": "display_data",
     "data": {
      "text/html": [
       "<style scoped>\n",
       "  .table-result-container {\n",
       "    max-height: 300px;\n",
       "    overflow: auto;\n",
       "  }\n",
       "  table, th, td {\n",
       "    border: 1px solid black;\n",
       "    border-collapse: collapse;\n",
       "  }\n",
       "  th, td {\n",
       "    padding: 5px;\n",
       "  }\n",
       "  th {\n",
       "    text-align: left;\n",
       "  }\n",
       "</style><div class='table-result-container'><table class='table-result'><thead style='background-color: white'><tr><th>Transaction ID</th><th>Item</th><th>Quantity</th><th>Price Per Unit</th><th>Total Spent</th><th>Payment Method</th><th>Location</th><th>Transaction Date</th></tr></thead><tbody><tr><td>TXN_1961373</td><td>Coffee</td><td>2</td><td>2.0</td><td>4.0</td><td>Credit Card</td><td>Takeaway</td><td>2023-09-08</td></tr><tr><td>TXN_4977031</td><td>Cake</td><td>4</td><td>3.0</td><td>12.0</td><td>Cash</td><td>In-store</td><td>2023-05-16</td></tr><tr><td>TXN_4271903</td><td>Cookie</td><td>4</td><td>1.0</td><td>null</td><td>Credit Card</td><td>In-store</td><td>2023-07-19</td></tr><tr><td>TXN_7034554</td><td>Salad</td><td>2</td><td>5.0</td><td>10.0</td><td>Unknown</td><td>Unknown</td><td>2023-04-27</td></tr><tr><td>TXN_3160411</td><td>Coffee</td><td>2</td><td>2.0</td><td>4.0</td><td>Digital Wallet</td><td>In-store</td><td>2023-06-11</td></tr><tr><td>TXN_2602893</td><td>Smoothie</td><td>5</td><td>4.0</td><td>20.0</td><td>Credit Card</td><td>Unknown</td><td>2023-03-31</td></tr><tr><td>TXN_4433211</td><td>Juice or Cake</td><td>3</td><td>3.0</td><td>9.0</td><td>Unknown</td><td>Takeaway</td><td>2023-10-06</td></tr><tr><td>TXN_6699534</td><td>Sandwich</td><td>4</td><td>4.0</td><td>16.0</td><td>Cash</td><td>Unknown</td><td>2023-10-28</td></tr><tr><td>TXN_4717867</td><td>Juice or Cake</td><td>5</td><td>3.0</td><td>15.0</td><td>Unknown</td><td>Takeaway</td><td>2023-07-28</td></tr><tr><td>TXN_2064365</td><td>Sandwich</td><td>5</td><td>4.0</td><td>20.0</td><td>Unknown</td><td>In-store</td><td>2023-12-31</td></tr></tbody></table></div>"
      ]
     },
     "metadata": {
      "application/vnd.databricks.v1+output": {
       "addedWidgets": {},
       "aggData": [],
       "aggError": "",
       "aggOverflow": false,
       "aggSchema": [],
       "aggSeriesLimitReached": false,
       "aggType": "",
       "arguments": {},
       "columnCustomDisplayInfos": {},
       "data": [
        [
         "TXN_1961373",
         "Coffee",
         "2",
         "2.0",
         "4.0",
         "Credit Card",
         "Takeaway",
         "2023-09-08"
        ],
        [
         "TXN_4977031",
         "Cake",
         "4",
         "3.0",
         "12.0",
         "Cash",
         "In-store",
         "2023-05-16"
        ],
        [
         "TXN_4271903",
         "Cookie",
         "4",
         "1.0",
         null,
         "Credit Card",
         "In-store",
         "2023-07-19"
        ],
        [
         "TXN_7034554",
         "Salad",
         "2",
         "5.0",
         "10.0",
         "Unknown",
         "Unknown",
         "2023-04-27"
        ],
        [
         "TXN_3160411",
         "Coffee",
         "2",
         "2.0",
         "4.0",
         "Digital Wallet",
         "In-store",
         "2023-06-11"
        ],
        [
         "TXN_2602893",
         "Smoothie",
         "5",
         "4.0",
         "20.0",
         "Credit Card",
         "Unknown",
         "2023-03-31"
        ],
        [
         "TXN_4433211",
         "Juice or Cake",
         "3",
         "3.0",
         "9.0",
         "Unknown",
         "Takeaway",
         "2023-10-06"
        ],
        [
         "TXN_6699534",
         "Sandwich",
         "4",
         "4.0",
         "16.0",
         "Cash",
         "Unknown",
         "2023-10-28"
        ],
        [
         "TXN_4717867",
         "Juice or Cake",
         "5",
         "3.0",
         "15.0",
         "Unknown",
         "Takeaway",
         "2023-07-28"
        ],
        [
         "TXN_2064365",
         "Sandwich",
         "5",
         "4.0",
         "20.0",
         "Unknown",
         "In-store",
         "2023-12-31"
        ]
       ],
       "datasetInfos": [],
       "dbfsResultPath": null,
       "isJsonSchema": true,
       "metadata": {},
       "overflow": false,
       "plotOptions": {
        "customPlotOptions": {},
        "displayType": "table",
        "pivotAggregation": null,
        "pivotColumns": null,
        "xColumns": null,
        "yColumns": null
       },
       "removedWidgets": [],
       "schema": [
        {
         "metadata": "{}",
         "name": "Transaction ID",
         "type": "\"string\""
        },
        {
         "metadata": "{}",
         "name": "Item",
         "type": "\"string\""
        },
        {
         "metadata": "{}",
         "name": "Quantity",
         "type": "\"string\""
        },
        {
         "metadata": "{}",
         "name": "Price Per Unit",
         "type": "\"string\""
        },
        {
         "metadata": "{}",
         "name": "Total Spent",
         "type": "\"string\""
        },
        {
         "metadata": "{}",
         "name": "Payment Method",
         "type": "\"string\""
        },
        {
         "metadata": "{}",
         "name": "Location",
         "type": "\"string\""
        },
        {
         "metadata": "{}",
         "name": "Transaction Date",
         "type": "\"string\""
        }
       ],
       "type": "table"
      }
     },
     "output_type": "display_data"
    }
   ],
   "source": [
    "display(cafe_df.head(10))"
   ]
  },
  {
   "cell_type": "code",
   "execution_count": 0,
   "metadata": {
    "application/vnd.databricks.v1+cell": {
     "cellMetadata": {
      "byteLimit": 2048000,
      "rowLimit": 10000
     },
     "inputWidgets": {},
     "nuid": "6c1e0e52-4d40-48c1-8f98-6f77ddd8b4f2",
     "showTitle": false,
     "tableResultSettingsMap": {},
     "title": ""
    }
   },
   "outputs": [
    {
     "output_type": "display_data",
     "data": {
      "text/html": [
       "<style scoped>\n",
       "  .table-result-container {\n",
       "    max-height: 300px;\n",
       "    overflow: auto;\n",
       "  }\n",
       "  table, th, td {\n",
       "    border: 1px solid black;\n",
       "    border-collapse: collapse;\n",
       "  }\n",
       "  th, td {\n",
       "    padding: 5px;\n",
       "  }\n",
       "  th {\n",
       "    text-align: left;\n",
       "  }\n",
       "</style><div class='table-result-container'><table class='table-result'><thead style='background-color: white'><tr><th>Transaction ID</th><th>Item</th><th>Quantity</th><th>Price Per Unit</th><th>Total Spent</th><th>Payment Method</th><th>Location</th><th>Transaction Date</th></tr></thead><tbody><tr><td>TXN_1961373</td><td>Coffee</td><td>2</td><td>2.0</td><td>4.0</td><td>Credit Card</td><td>Takeaway</td><td>2023-09-08</td></tr><tr><td>TXN_4977031</td><td>Cake</td><td>4</td><td>3.0</td><td>12.0</td><td>Cash</td><td>In-store</td><td>2023-05-16</td></tr><tr><td>TXN_4271903</td><td>Cookie</td><td>4</td><td>1.0</td><td>4.0</td><td>Credit Card</td><td>In-store</td><td>2023-07-19</td></tr><tr><td>TXN_7034554</td><td>Salad</td><td>2</td><td>5.0</td><td>10.0</td><td>Unknown</td><td>Unknown</td><td>2023-04-27</td></tr><tr><td>TXN_3160411</td><td>Coffee</td><td>2</td><td>2.0</td><td>4.0</td><td>Digital Wallet</td><td>In-store</td><td>2023-06-11</td></tr><tr><td>TXN_2602893</td><td>Smoothie</td><td>5</td><td>4.0</td><td>20.0</td><td>Credit Card</td><td>Unknown</td><td>2023-03-31</td></tr><tr><td>TXN_4433211</td><td>Juice or Cake</td><td>3</td><td>3.0</td><td>9.0</td><td>Unknown</td><td>Takeaway</td><td>2023-10-06</td></tr><tr><td>TXN_6699534</td><td>Sandwich</td><td>4</td><td>4.0</td><td>16.0</td><td>Cash</td><td>Unknown</td><td>2023-10-28</td></tr><tr><td>TXN_4717867</td><td>Juice or Cake</td><td>5</td><td>3.0</td><td>15.0</td><td>Unknown</td><td>Takeaway</td><td>2023-07-28</td></tr><tr><td>TXN_2064365</td><td>Sandwich</td><td>5</td><td>4.0</td><td>20.0</td><td>Unknown</td><td>In-store</td><td>2023-12-31</td></tr></tbody></table></div>"
      ]
     },
     "metadata": {
      "application/vnd.databricks.v1+output": {
       "addedWidgets": {},
       "aggData": [],
       "aggError": "",
       "aggOverflow": false,
       "aggSchema": [],
       "aggSeriesLimitReached": false,
       "aggType": "",
       "arguments": {},
       "columnCustomDisplayInfos": {},
       "data": [
        [
         "TXN_1961373",
         "Coffee",
         "2",
         "2.0",
         "4.0",
         "Credit Card",
         "Takeaway",
         "2023-09-08"
        ],
        [
         "TXN_4977031",
         "Cake",
         "4",
         "3.0",
         "12.0",
         "Cash",
         "In-store",
         "2023-05-16"
        ],
        [
         "TXN_4271903",
         "Cookie",
         "4",
         "1.0",
         "4.0",
         "Credit Card",
         "In-store",
         "2023-07-19"
        ],
        [
         "TXN_7034554",
         "Salad",
         "2",
         "5.0",
         "10.0",
         "Unknown",
         "Unknown",
         "2023-04-27"
        ],
        [
         "TXN_3160411",
         "Coffee",
         "2",
         "2.0",
         "4.0",
         "Digital Wallet",
         "In-store",
         "2023-06-11"
        ],
        [
         "TXN_2602893",
         "Smoothie",
         "5",
         "4.0",
         "20.0",
         "Credit Card",
         "Unknown",
         "2023-03-31"
        ],
        [
         "TXN_4433211",
         "Juice or Cake",
         "3",
         "3.0",
         "9.0",
         "Unknown",
         "Takeaway",
         "2023-10-06"
        ],
        [
         "TXN_6699534",
         "Sandwich",
         "4",
         "4.0",
         "16.0",
         "Cash",
         "Unknown",
         "2023-10-28"
        ],
        [
         "TXN_4717867",
         "Juice or Cake",
         "5",
         "3.0",
         "15.0",
         "Unknown",
         "Takeaway",
         "2023-07-28"
        ],
        [
         "TXN_2064365",
         "Sandwich",
         "5",
         "4.0",
         "20.0",
         "Unknown",
         "In-store",
         "2023-12-31"
        ]
       ],
       "datasetInfos": [],
       "dbfsResultPath": null,
       "isJsonSchema": true,
       "metadata": {},
       "overflow": false,
       "plotOptions": {
        "customPlotOptions": {},
        "displayType": "table",
        "pivotAggregation": null,
        "pivotColumns": null,
        "xColumns": null,
        "yColumns": null
       },
       "removedWidgets": [],
       "schema": [
        {
         "metadata": "{}",
         "name": "Transaction ID",
         "type": "\"string\""
        },
        {
         "metadata": "{}",
         "name": "Item",
         "type": "\"string\""
        },
        {
         "metadata": "{}",
         "name": "Quantity",
         "type": "\"string\""
        },
        {
         "metadata": "{}",
         "name": "Price Per Unit",
         "type": "\"string\""
        },
        {
         "metadata": "{}",
         "name": "Total Spent",
         "type": "\"string\""
        },
        {
         "metadata": "{}",
         "name": "Payment Method",
         "type": "\"string\""
        },
        {
         "metadata": "{}",
         "name": "Location",
         "type": "\"string\""
        },
        {
         "metadata": "{}",
         "name": "Transaction Date",
         "type": "\"string\""
        }
       ],
       "type": "table"
      }
     },
     "output_type": "display_data"
    }
   ],
   "source": [
    "cafe_df = cafe_df.withColumn(\n",
    "    \"Total Spent\",\n",
    "    when(col(\"Total Spent\").isNull(), col(\"Quantity\") * col(\"Price Per Unit\"))  #Fill missing values in the Total Spent Column. More efficient than recalculating.\n",
    "    .otherwise(col(\"Total Spent\"))\n",
    ")\n",
    "\n",
    "display(cafe_df.head(10))\n"
   ]
  },
  {
   "cell_type": "markdown",
   "metadata": {
    "application/vnd.databricks.v1+cell": {
     "cellMetadata": {
      "byteLimit": 2048000,
      "rowLimit": 10000
     },
     "inputWidgets": {},
     "nuid": "809b6c6a-7961-43fa-a32e-d206600fff47",
     "showTitle": false,
     "tableResultSettingsMap": {},
     "title": ""
    }
   },
   "source": [
    "### Fix Data Types"
   ]
  },
  {
   "cell_type": "code",
   "execution_count": 0,
   "metadata": {
    "application/vnd.databricks.v1+cell": {
     "cellMetadata": {
      "byteLimit": 2048000,
      "rowLimit": 10000
     },
     "inputWidgets": {},
     "nuid": "bcd6a09b-3f68-403b-96ef-1d98fd607368",
     "showTitle": false,
     "tableResultSettingsMap": {},
     "title": ""
    }
   },
   "outputs": [
    {
     "output_type": "execute_result",
     "data": {
      "text/plain": [
       "[('Transaction ID', 'string'),\n",
       " ('Item', 'string'),\n",
       " ('Quantity', 'double'),\n",
       " ('Price Per Unit', 'double'),\n",
       " ('Total Spent', 'double'),\n",
       " ('Payment Method', 'string'),\n",
       " ('Location', 'string'),\n",
       " ('Transaction Date', 'date')]"
      ]
     },
     "execution_count": 254,
     "metadata": {},
     "output_type": "execute_result"
    }
   ],
   "source": [
    "cafe_df = cafe_df \\\n",
    "    .withColumn(\"Price Per Unit\", col(\"Price Per Unit\").cast(\"double\")) \\\n",
    "    .withColumn(\"Total Spent\", col(\"Total Spent\").cast(\"double\")) \\\n",
    "        .withColumn(\"Quantity\", col(\"Quantity\").cast(\"double\")) \\\n",
    "    .withColumn(\"Transaction Date\", to_date(col(\"Transaction Date\"), \"yyyy-MM-dd\"))\n",
    "\n",
    "cafe_df.dtypes"
   ]
  },
  {
   "cell_type": "markdown",
   "metadata": {
    "application/vnd.databricks.v1+cell": {
     "cellMetadata": {
      "byteLimit": 2048000,
      "rowLimit": 10000
     },
     "inputWidgets": {},
     "nuid": "d26db7f4-1757-4fe9-8f32-d0ab32341b2f",
     "showTitle": false,
     "tableResultSettingsMap": {},
     "title": ""
    }
   },
   "source": [
    "\n",
    "### Format String Fields"
   ]
  },
  {
   "cell_type": "code",
   "execution_count": 0,
   "metadata": {
    "application/vnd.databricks.v1+cell": {
     "cellMetadata": {
      "byteLimit": 2048000,
      "rowLimit": 10000
     },
     "inputWidgets": {},
     "nuid": "7f746945-1d83-4d9c-8fe0-2d5b0c902d25",
     "showTitle": false,
     "tableResultSettingsMap": {},
     "title": ""
    }
   },
   "outputs": [],
   "source": [
    "cafe_df = cafe_df.withColumn('Item', trim(col('Item'))) \\\n",
    "    .withColumn('Payment Method', trim(col('Payment Method'))) \\\n",
    "    .withColumn('Location', trim(col('Location')))"
   ]
  },
  {
   "cell_type": "markdown",
   "metadata": {
    "application/vnd.databricks.v1+cell": {
     "cellMetadata": {
      "byteLimit": 2048000,
      "rowLimit": 10000
     },
     "inputWidgets": {},
     "nuid": "3b8b0bf4-1598-49ff-bc31-87590badcb03",
     "showTitle": false,
     "tableResultSettingsMap": {},
     "title": ""
    }
   },
   "source": [
    "\n",
    "### Load to Silver Layer"
   ]
  },
  {
   "cell_type": "code",
   "execution_count": 0,
   "metadata": {
    "application/vnd.databricks.v1+cell": {
     "cellMetadata": {
      "byteLimit": 2048000,
      "rowLimit": 10000
     },
     "inputWidgets": {},
     "nuid": "ef13daae-1ca8-48d2-a562-7355fc6c81f4",
     "showTitle": false,
     "tableResultSettingsMap": {},
     "title": ""
    }
   },
   "outputs": [
    {
     "output_type": "execute_result",
     "data": {
      "text/plain": [
       "'\\n\\ncatalog = \"silver_prod\"\\nschema = \"silver_db\"\\ntable_name = \"cafe_silver\"\\n\\n\\nrole_table = f\"{catalog}.{schema}.{table_name}\"\\n\\n\\nspark.sql(\"SELECT * FROM cafe_temp_view\").write.format(\"delta\").mode(\"overwrite\").option(\"mergeSchema\", \"true\").saveAsTable(role_table)\\n\\n'"
      ]
     },
     "execution_count": 256,
     "metadata": {},
     "output_type": "execute_result"
    }
   ],
   "source": [
    "\n",
    "\n",
    "cafe_df.createOrReplaceTempView(\"cafe_temp_view\")\n",
    "     \n",
    "\n",
    "'''\n",
    "\n",
    "catalog = \"silver_prod\"\n",
    "schema = \"silver_db\"\n",
    "table_name = \"cafe_silver\"\n",
    "\n",
    "\n",
    "role_table = f\"{catalog}.{schema}.{table_name}\"\n",
    "\n",
    "\n",
    "spark.sql(\"SELECT * FROM cafe_temp_view\").write.format(\"delta\").mode(\"overwrite\").option(\"mergeSchema\", \"true\").saveAsTable(role_table)\n",
    "\n",
    "'''\n",
    "     \n"
   ]
  }
 ],
 "metadata": {
  "application/vnd.databricks.v1+notebook": {
   "computePreferences": null,
   "dashboards": [],
   "environmentMetadata": {
    "base_environment": "",
    "client": "1"
   },
   "language": "python",
   "notebookMetadata": {
    "pythonIndentUnit": 4
   },
   "notebookName": "Data Cleaning and Transformation",
   "widgets": {}
  }
 },
 "nbformat": 4,
 "nbformat_minor": 0
}
