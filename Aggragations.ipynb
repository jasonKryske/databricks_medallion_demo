{
 "cells": [
  {
   "cell_type": "markdown",
   "metadata": {
    "application/vnd.databricks.v1+cell": {
     "cellMetadata": {
      "byteLimit": 2048000,
      "rowLimit": 10000
     },
     "inputWidgets": {},
     "nuid": "d29055a8-7c69-4bc5-9af3-718a6c948621",
     "showTitle": false,
     "tableResultSettingsMap": {},
     "title": ""
    }
   },
   "source": [
    "# Demo of aggragating data in Pyspark\n",
    "## Gold Layer Medallion Architecture"
   ]
  },
  {
   "cell_type": "code",
   "execution_count": 0,
   "metadata": {
    "application/vnd.databricks.v1+cell": {
     "cellMetadata": {
      "byteLimit": 2048000,
      "rowLimit": 10000
     },
     "inputWidgets": {},
     "nuid": "266a15d1-ae44-45d7-91a1-865b92efab0d",
     "showTitle": false,
     "tableResultSettingsMap": {},
     "title": ""
    }
   },
   "outputs": [],
   "source": [
    "from pyspark.sql.functions import *"
   ]
  },
  {
   "cell_type": "code",
   "execution_count": 0,
   "metadata": {
    "application/vnd.databricks.v1+cell": {
     "cellMetadata": {
      "byteLimit": 2048000,
      "rowLimit": 10000
     },
     "inputWidgets": {},
     "nuid": "2085e827-7525-48e1-bb56-1058dc098510",
     "showTitle": false,
     "tableResultSettingsMap": {},
     "title": ""
    }
   },
   "outputs": [],
   "source": [
    "path = \"dbfs:/FileStore/sample_data/dirty_cafe_sales.csv\"   # Since I am just using the flat file, I will remove all errors and null values just for demonstrative purposes. \n",
    "\n",
    "cafe_df = (spark.read\n",
    "           .format(\"csv\")\n",
    "           .option(\"header\",\"true\")\n",
    "           .option(\"inferschema\",\"true\")\n",
    "           .load(path)\n",
    ")"
   ]
  },
  {
   "cell_type": "code",
   "execution_count": 0,
   "metadata": {
    "application/vnd.databricks.v1+cell": {
     "cellMetadata": {
      "byteLimit": 2048000,
      "rowLimit": 10000
     },
     "inputWidgets": {},
     "nuid": "3f0e92ca-85a4-48fe-ac93-7b10168da91c",
     "showTitle": false,
     "tableResultSettingsMap": {},
     "title": ""
    }
   },
   "outputs": [],
   "source": [
    "error_values = ['ERROR', \"UNKNOWN\"]\n",
    "\n",
    "cafe_df = cafe_df \\\n",
    "            .select([when(col(c).isin(error_values), None).otherwise(col(c)).alias(c) for c in cafe_df.columns])  # Standardize missing values so everything is a null value)\n",
    "\n",
    "\n",
    "cafe_df = cafe_df.dropna(how=\"any\")"
   ]
  },
  {
   "cell_type": "code",
   "execution_count": 0,
   "metadata": {
    "application/vnd.databricks.v1+cell": {
     "cellMetadata": {
      "byteLimit": 2048000,
      "rowLimit": 10000
     },
     "inputWidgets": {},
     "nuid": "81c744bd-26fb-406a-9aff-7e0efd8ba2e5",
     "showTitle": false,
     "tableResultSettingsMap": {},
     "title": ""
    }
   },
   "outputs": [],
   "source": [
    "cafe_df = cafe_df \\\n",
    "    .withColumn(\"Price Per Unit\", col(\"Price Per Unit\").cast(\"double\")) \\\n",
    "    .withColumn(\"Total Spent\", col(\"Total Spent\").cast(\"double\")) \\\n",
    "        .withColumn(\"Quantity\", col(\"Quantity\").cast(\"double\")) \\\n",
    "    .withColumn(\"Transaction Date\", to_date(col(\"Transaction Date\"), \"yyyy-MM-dd\"))"
   ]
  },
  {
   "cell_type": "markdown",
   "metadata": {
    "application/vnd.databricks.v1+cell": {
     "cellMetadata": {
      "byteLimit": 2048000,
      "rowLimit": 10000
     },
     "inputWidgets": {},
     "nuid": "f6a1b32d-3526-415e-bd72-fd57bcd10d87",
     "showTitle": false,
     "tableResultSettingsMap": {},
     "title": ""
    }
   },
   "source": [
    "\n",
    "### Aggregations"
   ]
  },
  {
   "cell_type": "code",
   "execution_count": 0,
   "metadata": {
    "application/vnd.databricks.v1+cell": {
     "cellMetadata": {
      "byteLimit": 2048000,
      "rowLimit": 10000
     },
     "inputWidgets": {},
     "nuid": "e305955e-6613-4c57-9b61-28d8819de16c",
     "showTitle": false,
     "tableResultSettingsMap": {},
     "title": ""
    }
   },
   "outputs": [
    {
     "output_type": "display_data",
     "data": {
      "text/html": [
       "<style scoped>\n",
       "  .table-result-container {\n",
       "    max-height: 300px;\n",
       "    overflow: auto;\n",
       "  }\n",
       "  table, th, td {\n",
       "    border: 1px solid black;\n",
       "    border-collapse: collapse;\n",
       "  }\n",
       "  th, td {\n",
       "    padding: 5px;\n",
       "  }\n",
       "  th {\n",
       "    text-align: left;\n",
       "  }\n",
       "</style><div class='table-result-container'><table class='table-result'><thead style='background-color: white'><tr><th>Item</th><th>Total Spent</th></tr></thead><tbody><tr><td>Salad</td><td>6360.0</td></tr><tr><td>Sandwich</td><td>4772.0</td></tr><tr><td>Smoothie</td><td>4088.0</td></tr><tr><td>Juice</td><td>3735.0</td></tr><tr><td>Cake</td><td>3519.0</td></tr><tr><td>Coffee</td><td>2242.0</td></tr><tr><td>Tea</td><td>1726.5</td></tr><tr><td>Cookie</td><td>1163.0</td></tr></tbody></table></div>"
      ]
     },
     "metadata": {
      "application/vnd.databricks.v1+output": {
       "addedWidgets": {},
       "aggData": [],
       "aggError": "",
       "aggOverflow": false,
       "aggSchema": [],
       "aggSeriesLimitReached": false,
       "aggType": "",
       "arguments": {},
       "columnCustomDisplayInfos": {},
       "data": [
        [
         "Salad",
         6360.0
        ],
        [
         "Sandwich",
         4772.0
        ],
        [
         "Smoothie",
         4088.0
        ],
        [
         "Juice",
         3735.0
        ],
        [
         "Cake",
         3519.0
        ],
        [
         "Coffee",
         2242.0
        ],
        [
         "Tea",
         1726.5
        ],
        [
         "Cookie",
         1163.0
        ]
       ],
       "datasetInfos": [],
       "dbfsResultPath": null,
       "isJsonSchema": true,
       "metadata": {},
       "overflow": false,
       "plotOptions": {
        "customPlotOptions": {},
        "displayType": "table",
        "pivotAggregation": null,
        "pivotColumns": null,
        "xColumns": null,
        "yColumns": null
       },
       "removedWidgets": [],
       "schema": [
        {
         "metadata": "{}",
         "name": "Item",
         "type": "\"string\""
        },
        {
         "metadata": "{}",
         "name": "Total Spent",
         "type": "\"double\""
        }
       ],
       "type": "table"
      }
     },
     "output_type": "display_data"
    }
   ],
   "source": [
    "total_spent_item = cafe_df \\\n",
    "    .groupBy('Item') \\\n",
    "    .agg(sum(col('Total Spent')).alias('Total Spent')) \\\n",
    "    .orderBy('Total Spent', ascending=False)\n",
    "\n",
    "\n",
    "total_spent_item.display()"
   ]
  },
  {
   "cell_type": "code",
   "execution_count": 0,
   "metadata": {
    "application/vnd.databricks.v1+cell": {
     "cellMetadata": {
      "byteLimit": 2048000,
      "rowLimit": 10000
     },
     "inputWidgets": {},
     "nuid": "b7a9bee0-3dae-4980-81b8-715140c5e4ef",
     "showTitle": false,
     "tableResultSettingsMap": {},
     "title": ""
    }
   },
   "outputs": [
    {
     "output_type": "display_data",
     "data": {
      "text/html": [
       "<style scoped>\n",
       "  .table-result-container {\n",
       "    max-height: 300px;\n",
       "    overflow: auto;\n",
       "  }\n",
       "  table, th, td {\n",
       "    border: 1px solid black;\n",
       "    border-collapse: collapse;\n",
       "  }\n",
       "  th, td {\n",
       "    padding: 5px;\n",
       "  }\n",
       "  th {\n",
       "    text-align: left;\n",
       "  }\n",
       "</style><div class='table-result-container'><table class='table-result'><thead style='background-color: white'><tr><th>Item</th><th>Total Spent</th><th>Average Spent</th></tr></thead><tbody><tr><td>Cookie</td><td>1163.0</td><td>2.9744245524296673</td></tr><tr><td>Tea</td><td>1726.5</td><td>4.641129032258065</td></tr><tr><td>Coffee</td><td>2242.0</td><td>6.108991825613079</td></tr><tr><td>Cake</td><td>3519.0</td><td>9.14025974025974</td></tr><tr><td>Juice</td><td>3735.0</td><td>8.747072599531617</td></tr><tr><td>Smoothie</td><td>4088.0</td><td>12.094674556213018</td></tr><tr><td>Sandwich</td><td>4772.0</td><td>12.20460358056266</td></tr><tr><td>Salad</td><td>6360.0</td><td>15.21531100478469</td></tr></tbody></table></div>"
      ]
     },
     "metadata": {
      "application/vnd.databricks.v1+output": {
       "addedWidgets": {},
       "aggData": [],
       "aggError": "",
       "aggOverflow": false,
       "aggSchema": [],
       "aggSeriesLimitReached": false,
       "aggType": "",
       "arguments": {},
       "columnCustomDisplayInfos": {},
       "data": [
        [
         "Cookie",
         1163.0,
         2.9744245524296673
        ],
        [
         "Tea",
         1726.5,
         4.641129032258065
        ],
        [
         "Coffee",
         2242.0,
         6.108991825613079
        ],
        [
         "Cake",
         3519.0,
         9.14025974025974
        ],
        [
         "Juice",
         3735.0,
         8.747072599531617
        ],
        [
         "Smoothie",
         4088.0,
         12.094674556213018
        ],
        [
         "Sandwich",
         4772.0,
         12.20460358056266
        ],
        [
         "Salad",
         6360.0,
         15.21531100478469
        ]
       ],
       "datasetInfos": [],
       "dbfsResultPath": null,
       "isJsonSchema": true,
       "metadata": {},
       "overflow": false,
       "plotOptions": {
        "customPlotOptions": {},
        "displayType": "table",
        "pivotAggregation": null,
        "pivotColumns": null,
        "xColumns": null,
        "yColumns": null
       },
       "removedWidgets": [],
       "schema": [
        {
         "metadata": "{}",
         "name": "Item",
         "type": "\"string\""
        },
        {
         "metadata": "{}",
         "name": "Total Spent",
         "type": "\"double\""
        },
        {
         "metadata": "{}",
         "name": "Average Spent",
         "type": "\"double\""
        }
       ],
       "type": "table"
      }
     },
     "output_type": "display_data"
    }
   ],
   "source": [
    "sum_avg_spent_item = cafe_df \\\n",
    "    .groupBy('Item') \\\n",
    "    .agg(\n",
    "        sum('Total Spent').alias('Total Spent'), \n",
    "        avg('Total Spent').alias('Average Spent')\n",
    "    ) \\\n",
    "    .orderBy('Total Spent', ascending=True)\n",
    "\n",
    "\n",
    "sum_avg_spent_item.display()\n"
   ]
  },
  {
   "cell_type": "code",
   "execution_count": 0,
   "metadata": {
    "application/vnd.databricks.v1+cell": {
     "cellMetadata": {
      "byteLimit": 2048000,
      "rowLimit": 10000
     },
     "inputWidgets": {},
     "nuid": "5569872c-78e2-43f8-9c1f-7f74e5d2c76d",
     "showTitle": false,
     "tableResultSettingsMap": {},
     "title": ""
    }
   },
   "outputs": [
    {
     "output_type": "display_data",
     "data": {
      "text/html": [
       "<style scoped>\n",
       "  .table-result-container {\n",
       "    max-height: 300px;\n",
       "    overflow: auto;\n",
       "  }\n",
       "  table, th, td {\n",
       "    border: 1px solid black;\n",
       "    border-collapse: collapse;\n",
       "  }\n",
       "  th, td {\n",
       "    padding: 5px;\n",
       "  }\n",
       "  th {\n",
       "    text-align: left;\n",
       "  }\n",
       "</style><div class='table-result-container'><table class='table-result'><thead style='background-color: white'><tr><th>Item</th><th>Payment Method</th><th>Total Spent</th></tr></thead><tbody><tr><td>Cake</td><td>Cash</td><td>1206.0</td></tr><tr><td>Cake</td><td>Credit Card</td><td>1197.0</td></tr><tr><td>Cake</td><td>Digital Wallet</td><td>1116.0</td></tr><tr><td>Coffee</td><td>Digital Wallet</td><td>812.0</td></tr><tr><td>Coffee</td><td>Cash</td><td>770.0</td></tr><tr><td>Coffee</td><td>Credit Card</td><td>660.0</td></tr><tr><td>Cookie</td><td>Cash</td><td>405.0</td></tr><tr><td>Cookie</td><td>Credit Card</td><td>380.0</td></tr><tr><td>Cookie</td><td>Digital Wallet</td><td>378.0</td></tr><tr><td>Juice</td><td>Digital Wallet</td><td>1428.0</td></tr><tr><td>Juice</td><td>Cash</td><td>1194.0</td></tr><tr><td>Juice</td><td>Credit Card</td><td>1113.0</td></tr><tr><td>Salad</td><td>Credit Card</td><td>2225.0</td></tr><tr><td>Salad</td><td>Cash</td><td>2070.0</td></tr><tr><td>Salad</td><td>Digital Wallet</td><td>2065.0</td></tr><tr><td>Sandwich</td><td>Digital Wallet</td><td>1760.0</td></tr><tr><td>Sandwich</td><td>Cash</td><td>1652.0</td></tr><tr><td>Sandwich</td><td>Credit Card</td><td>1360.0</td></tr><tr><td>Smoothie</td><td>Digital Wallet</td><td>1508.0</td></tr><tr><td>Smoothie</td><td>Credit Card</td><td>1352.0</td></tr><tr><td>Smoothie</td><td>Cash</td><td>1228.0</td></tr><tr><td>Tea</td><td>Digital Wallet</td><td>606.0</td></tr><tr><td>Tea</td><td>Credit Card</td><td>564.0</td></tr><tr><td>Tea</td><td>Cash</td><td>556.5</td></tr></tbody></table></div>"
      ]
     },
     "metadata": {
      "application/vnd.databricks.v1+output": {
       "addedWidgets": {},
       "aggData": [],
       "aggError": "",
       "aggOverflow": false,
       "aggSchema": [],
       "aggSeriesLimitReached": false,
       "aggType": "",
       "arguments": {},
       "columnCustomDisplayInfos": {},
       "data": [
        [
         "Cake",
         "Cash",
         1206.0
        ],
        [
         "Cake",
         "Credit Card",
         1197.0
        ],
        [
         "Cake",
         "Digital Wallet",
         1116.0
        ],
        [
         "Coffee",
         "Digital Wallet",
         812.0
        ],
        [
         "Coffee",
         "Cash",
         770.0
        ],
        [
         "Coffee",
         "Credit Card",
         660.0
        ],
        [
         "Cookie",
         "Cash",
         405.0
        ],
        [
         "Cookie",
         "Credit Card",
         380.0
        ],
        [
         "Cookie",
         "Digital Wallet",
         378.0
        ],
        [
         "Juice",
         "Digital Wallet",
         1428.0
        ],
        [
         "Juice",
         "Cash",
         1194.0
        ],
        [
         "Juice",
         "Credit Card",
         1113.0
        ],
        [
         "Salad",
         "Credit Card",
         2225.0
        ],
        [
         "Salad",
         "Cash",
         2070.0
        ],
        [
         "Salad",
         "Digital Wallet",
         2065.0
        ],
        [
         "Sandwich",
         "Digital Wallet",
         1760.0
        ],
        [
         "Sandwich",
         "Cash",
         1652.0
        ],
        [
         "Sandwich",
         "Credit Card",
         1360.0
        ],
        [
         "Smoothie",
         "Digital Wallet",
         1508.0
        ],
        [
         "Smoothie",
         "Credit Card",
         1352.0
        ],
        [
         "Smoothie",
         "Cash",
         1228.0
        ],
        [
         "Tea",
         "Digital Wallet",
         606.0
        ],
        [
         "Tea",
         "Credit Card",
         564.0
        ],
        [
         "Tea",
         "Cash",
         556.5
        ]
       ],
       "datasetInfos": [],
       "dbfsResultPath": null,
       "isJsonSchema": true,
       "metadata": {},
       "overflow": false,
       "plotOptions": {
        "customPlotOptions": {},
        "displayType": "table",
        "pivotAggregation": null,
        "pivotColumns": null,
        "xColumns": null,
        "yColumns": null
       },
       "removedWidgets": [],
       "schema": [
        {
         "metadata": "{}",
         "name": "Item",
         "type": "\"string\""
        },
        {
         "metadata": "{}",
         "name": "Payment Method",
         "type": "\"string\""
        },
        {
         "metadata": "{}",
         "name": "Total Spent",
         "type": "\"double\""
        }
       ],
       "type": "table"
      }
     },
     "output_type": "display_data"
    }
   ],
   "source": [
    "total_spent_item_payment = cafe_df \\\n",
    "    .groupBy('Item', 'Payment Method') \\\n",
    "    .agg(sum('Total Spent').alias('Total Spent')) \\\n",
    "    .orderBy(['Item','Total Spent'], ascending =[True,False])\n",
    "\n",
    "\n",
    "total_spent_item_payment.display()"
   ]
  },
  {
   "cell_type": "code",
   "execution_count": 0,
   "metadata": {
    "application/vnd.databricks.v1+cell": {
     "cellMetadata": {
      "byteLimit": 2048000,
      "rowLimit": 10000
     },
     "inputWidgets": {},
     "nuid": "9c24b3bc-3d2e-4fc4-9324-06978a28ccf5",
     "showTitle": false,
     "tableResultSettingsMap": {},
     "title": ""
    }
   },
   "outputs": [],
   "source": [
    " # This transformation should be done in the silver layer\n",
    "cafe_df = cafe_df.withColumn(\"Transaction Year\", year(cafe_df[\"Transaction Date\"])) \\\n",
    "                 .withColumn(\"Transaction Quarter\", quarter(cafe_df[\"Transaction Date\"]))"
   ]
  },
  {
   "cell_type": "code",
   "execution_count": 0,
   "metadata": {
    "application/vnd.databricks.v1+cell": {
     "cellMetadata": {
      "byteLimit": 2048000,
      "rowLimit": 10000
     },
     "inputWidgets": {},
     "nuid": "052cab00-5608-4429-b834-8fcbfec7072f",
     "showTitle": false,
     "tableResultSettingsMap": {},
     "title": ""
    }
   },
   "outputs": [
    {
     "output_type": "display_data",
     "data": {
      "text/html": [
       "<style scoped>\n",
       "  .table-result-container {\n",
       "    max-height: 300px;\n",
       "    overflow: auto;\n",
       "  }\n",
       "  table, th, td {\n",
       "    border: 1px solid black;\n",
       "    border-collapse: collapse;\n",
       "  }\n",
       "  th, td {\n",
       "    padding: 5px;\n",
       "  }\n",
       "  th {\n",
       "    text-align: left;\n",
       "  }\n",
       "</style><div class='table-result-container'><table class='table-result'><thead style='background-color: white'><tr><th>Transaction ID</th><th>Item</th><th>Quantity</th><th>Price Per Unit</th><th>Total Spent</th><th>Payment Method</th><th>Location</th><th>Transaction Date</th><th>Transaction Year</th><th>Transaction Quarter</th><th>Year and Quarter</th></tr></thead><tbody><tr><td>TXN_1961373</td><td>Coffee</td><td>2.0</td><td>2.0</td><td>4.0</td><td>Credit Card</td><td>Takeaway</td><td>2023-09-08</td><td>2023</td><td>3</td><td>2023 Q3</td></tr><tr><td>TXN_4977031</td><td>Cake</td><td>4.0</td><td>3.0</td><td>12.0</td><td>Cash</td><td>In-store</td><td>2023-05-16</td><td>2023</td><td>2</td><td>2023 Q2</td></tr><tr><td>TXN_3160411</td><td>Coffee</td><td>2.0</td><td>2.0</td><td>4.0</td><td>Digital Wallet</td><td>In-store</td><td>2023-06-11</td><td>2023</td><td>2</td><td>2023 Q2</td></tr><tr><td>TXN_2548360</td><td>Salad</td><td>5.0</td><td>5.0</td><td>25.0</td><td>Cash</td><td>Takeaway</td><td>2023-11-07</td><td>2023</td><td>4</td><td>2023 Q4</td></tr><tr><td>TXN_7619095</td><td>Sandwich</td><td>2.0</td><td>4.0</td><td>8.0</td><td>Cash</td><td>In-store</td><td>2023-05-03</td><td>2023</td><td>2</td><td>2023 Q2</td></tr><tr><td>TXN_2847255</td><td>Salad</td><td>3.0</td><td>5.0</td><td>15.0</td><td>Credit Card</td><td>In-store</td><td>2023-11-15</td><td>2023</td><td>4</td><td>2023 Q4</td></tr><tr><td>TXN_6769710</td><td>Juice</td><td>2.0</td><td>3.0</td><td>6.0</td><td>Cash</td><td>In-store</td><td>2023-02-24</td><td>2023</td><td>1</td><td>2023 Q1</td></tr><tr><td>TXN_3709394</td><td>Juice</td><td>4.0</td><td>3.0</td><td>12.0</td><td>Cash</td><td>Takeaway</td><td>2023-01-15</td><td>2023</td><td>1</td><td>2023 Q1</td></tr><tr><td>TXN_3567645</td><td>Smoothie</td><td>4.0</td><td>4.0</td><td>16.0</td><td>Credit Card</td><td>Takeaway</td><td>2023-03-30</td><td>2023</td><td>1</td><td>2023 Q1</td></tr><tr><td>TXN_5132361</td><td>Sandwich</td><td>3.0</td><td>4.0</td><td>12.0</td><td>Digital Wallet</td><td>Takeaway</td><td>2023-12-01</td><td>2023</td><td>4</td><td>2023 Q4</td></tr></tbody></table></div>"
      ]
     },
     "metadata": {
      "application/vnd.databricks.v1+output": {
       "addedWidgets": {},
       "aggData": [],
       "aggError": "",
       "aggOverflow": false,
       "aggSchema": [],
       "aggSeriesLimitReached": false,
       "aggType": "",
       "arguments": {},
       "columnCustomDisplayInfos": {},
       "data": [
        [
         "TXN_1961373",
         "Coffee",
         2.0,
         2.0,
         4.0,
         "Credit Card",
         "Takeaway",
         "2023-09-08",
         2023,
         3,
         "2023 Q3"
        ],
        [
         "TXN_4977031",
         "Cake",
         4.0,
         3.0,
         12.0,
         "Cash",
         "In-store",
         "2023-05-16",
         2023,
         2,
         "2023 Q2"
        ],
        [
         "TXN_3160411",
         "Coffee",
         2.0,
         2.0,
         4.0,
         "Digital Wallet",
         "In-store",
         "2023-06-11",
         2023,
         2,
         "2023 Q2"
        ],
        [
         "TXN_2548360",
         "Salad",
         5.0,
         5.0,
         25.0,
         "Cash",
         "Takeaway",
         "2023-11-07",
         2023,
         4,
         "2023 Q4"
        ],
        [
         "TXN_7619095",
         "Sandwich",
         2.0,
         4.0,
         8.0,
         "Cash",
         "In-store",
         "2023-05-03",
         2023,
         2,
         "2023 Q2"
        ],
        [
         "TXN_2847255",
         "Salad",
         3.0,
         5.0,
         15.0,
         "Credit Card",
         "In-store",
         "2023-11-15",
         2023,
         4,
         "2023 Q4"
        ],
        [
         "TXN_6769710",
         "Juice",
         2.0,
         3.0,
         6.0,
         "Cash",
         "In-store",
         "2023-02-24",
         2023,
         1,
         "2023 Q1"
        ],
        [
         "TXN_3709394",
         "Juice",
         4.0,
         3.0,
         12.0,
         "Cash",
         "Takeaway",
         "2023-01-15",
         2023,
         1,
         "2023 Q1"
        ],
        [
         "TXN_3567645",
         "Smoothie",
         4.0,
         4.0,
         16.0,
         "Credit Card",
         "Takeaway",
         "2023-03-30",
         2023,
         1,
         "2023 Q1"
        ],
        [
         "TXN_5132361",
         "Sandwich",
         3.0,
         4.0,
         12.0,
         "Digital Wallet",
         "Takeaway",
         "2023-12-01",
         2023,
         4,
         "2023 Q4"
        ]
       ],
       "datasetInfos": [],
       "dbfsResultPath": null,
       "isJsonSchema": true,
       "metadata": {},
       "overflow": false,
       "plotOptions": {
        "customPlotOptions": {},
        "displayType": "table",
        "pivotAggregation": null,
        "pivotColumns": null,
        "xColumns": null,
        "yColumns": null
       },
       "removedWidgets": [],
       "schema": [
        {
         "metadata": "{}",
         "name": "Transaction ID",
         "type": "\"string\""
        },
        {
         "metadata": "{}",
         "name": "Item",
         "type": "\"string\""
        },
        {
         "metadata": "{}",
         "name": "Quantity",
         "type": "\"double\""
        },
        {
         "metadata": "{}",
         "name": "Price Per Unit",
         "type": "\"double\""
        },
        {
         "metadata": "{}",
         "name": "Total Spent",
         "type": "\"double\""
        },
        {
         "metadata": "{}",
         "name": "Payment Method",
         "type": "\"string\""
        },
        {
         "metadata": "{}",
         "name": "Location",
         "type": "\"string\""
        },
        {
         "metadata": "{}",
         "name": "Transaction Date",
         "type": "\"date\""
        },
        {
         "metadata": "{}",
         "name": "Transaction Year",
         "type": "\"long\""
        },
        {
         "metadata": "{}",
         "name": "Transaction Quarter",
         "type": "\"long\""
        },
        {
         "metadata": "{}",
         "name": "Year and Quarter",
         "type": "\"string\""
        }
       ],
       "type": "table"
      }
     },
     "output_type": "display_data"
    }
   ],
   "source": [
    " # This transformation should be done in the silver layer\n",
    "cafe_df = cafe_df.withColumn(\"Year and Quarter\", concat(cafe_df[\"Transaction Year\"], lit(\" Q\"), cafe_df[\"Transaction Quarter\"]))\n",
    "\n",
    "\n",
    "display(cafe_df.head(10))"
   ]
  },
  {
   "cell_type": "code",
   "execution_count": 0,
   "metadata": {
    "application/vnd.databricks.v1+cell": {
     "cellMetadata": {
      "byteLimit": 2048000,
      "rowLimit": 10000
     },
     "inputWidgets": {},
     "nuid": "c4581a09-3f0d-49c2-832c-a260a6f2f2b8",
     "showTitle": false,
     "tableResultSettingsMap": {},
     "title": ""
    }
   },
   "outputs": [
    {
     "output_type": "display_data",
     "data": {
      "text/html": [
       "<style scoped>\n",
       "  .table-result-container {\n",
       "    max-height: 300px;\n",
       "    overflow: auto;\n",
       "  }\n",
       "  table, th, td {\n",
       "    border: 1px solid black;\n",
       "    border-collapse: collapse;\n",
       "  }\n",
       "  th, td {\n",
       "    padding: 5px;\n",
       "  }\n",
       "  th {\n",
       "    text-align: left;\n",
       "  }\n",
       "</style><div class='table-result-container'><table class='table-result'><thead style='background-color: white'><tr><th>Year and Quarter</th><th>Location</th><th>Total Spent</th><th>Max Spent</th><th>Average Spent</th></tr></thead><tbody><tr><td>2023 Q1</td><td>In-store</td><td>3752.0</td><td>25.0</td><td>9.29</td></tr><tr><td>2023 Q1</td><td>Takeaway</td><td>3456.5</td><td>25.0</td><td>8.77</td></tr><tr><td>2023 Q2</td><td>In-store</td><td>3348.0</td><td>25.0</td><td>9.15</td></tr><tr><td>2023 Q2</td><td>Takeaway</td><td>3053.5</td><td>25.0</td><td>8.8</td></tr><tr><td>2023 Q3</td><td>Takeaway</td><td>3565.0</td><td>25.0</td><td>8.45</td></tr><tr><td>2023 Q3</td><td>In-store</td><td>3497.0</td><td>25.0</td><td>9.28</td></tr><tr><td>2023 Q4</td><td>In-store</td><td>3513.5</td><td>25.0</td><td>8.89</td></tr><tr><td>2023 Q4</td><td>Takeaway</td><td>3420.0</td><td>25.0</td><td>8.91</td></tr></tbody></table></div>"
      ]
     },
     "metadata": {
      "application/vnd.databricks.v1+output": {
       "addedWidgets": {},
       "aggData": [],
       "aggError": "",
       "aggOverflow": false,
       "aggSchema": [],
       "aggSeriesLimitReached": false,
       "aggType": "",
       "arguments": {},
       "columnCustomDisplayInfos": {},
       "data": [
        [
         "2023 Q1",
         "In-store",
         3752.0,
         25.0,
         9.29
        ],
        [
         "2023 Q1",
         "Takeaway",
         3456.5,
         25.0,
         8.77
        ],
        [
         "2023 Q2",
         "In-store",
         3348.0,
         25.0,
         9.15
        ],
        [
         "2023 Q2",
         "Takeaway",
         3053.5,
         25.0,
         8.8
        ],
        [
         "2023 Q3",
         "Takeaway",
         3565.0,
         25.0,
         8.45
        ],
        [
         "2023 Q3",
         "In-store",
         3497.0,
         25.0,
         9.28
        ],
        [
         "2023 Q4",
         "In-store",
         3513.5,
         25.0,
         8.89
        ],
        [
         "2023 Q4",
         "Takeaway",
         3420.0,
         25.0,
         8.91
        ]
       ],
       "datasetInfos": [],
       "dbfsResultPath": null,
       "isJsonSchema": true,
       "metadata": {},
       "overflow": false,
       "plotOptions": {
        "customPlotOptions": {},
        "displayType": "table",
        "pivotAggregation": null,
        "pivotColumns": null,
        "xColumns": null,
        "yColumns": null
       },
       "removedWidgets": [],
       "schema": [
        {
         "metadata": "{}",
         "name": "Year and Quarter",
         "type": "\"string\""
        },
        {
         "metadata": "{}",
         "name": "Location",
         "type": "\"string\""
        },
        {
         "metadata": "{}",
         "name": "Total Spent",
         "type": "\"double\""
        },
        {
         "metadata": "{}",
         "name": "Max Spent",
         "type": "\"double\""
        },
        {
         "metadata": "{}",
         "name": "Average Spent",
         "type": "\"double\""
        }
       ],
       "type": "table"
      }
     },
     "output_type": "display_data"
    }
   ],
   "source": [
    "year_quarter_item_spent = cafe_df \\\n",
    "    .groupBy('Year and Quarter', 'Location') \\\n",
    "    .agg(\n",
    "        sum('Total Spent').alias('Total Spent'),\n",
    "        max('Total Spent').alias('Max Spent'),\n",
    "        round(avg('Total Spent'),2).alias('Average Spent')\n",
    "    ) \\\n",
    "    .orderBy(['Year and Quarter', 'Total Spent'], ascending = [True,False])\n",
    "\n",
    "year_quarter_item_spent.display()"
   ]
  },
  {
   "cell_type": "code",
   "execution_count": 0,
   "metadata": {
    "application/vnd.databricks.v1+cell": {
     "cellMetadata": {},
     "inputWidgets": {},
     "nuid": "7ddf0422-b9e2-4b72-bc53-b20b30e70df4",
     "showTitle": false,
     "tableResultSettingsMap": {},
     "title": ""
    }
   },
   "outputs": [],
   "source": []
  }
 ],
 "metadata": {
  "application/vnd.databricks.v1+notebook": {
   "computePreferences": null,
   "dashboards": [],
   "environmentMetadata": {
    "base_environment": "",
    "client": "1"
   },
   "language": "python",
   "notebookMetadata": {
    "pythonIndentUnit": 4
   },
   "notebookName": "Aggragations",
   "widgets": {}
  }
 },
 "nbformat": 4,
 "nbformat_minor": 0
}
