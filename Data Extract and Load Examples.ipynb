{
 "cells": [
  {
   "cell_type": "markdown",
   "metadata": {
    "application/vnd.databricks.v1+cell": {
     "cellMetadata": {
      "byteLimit": 2048000,
      "rowLimit": 10000
     },
     "inputWidgets": {},
     "nuid": "08c0fa5f-a278-4f20-9b34-422045334944",
     "showTitle": false,
     "tableResultSettingsMap": {},
     "title": ""
    }
   },
   "source": [
    "# Data Extraction"
   ]
  },
  {
   "cell_type": "markdown",
   "metadata": {
    "application/vnd.databricks.v1+cell": {
     "cellMetadata": {
      "byteLimit": 2048000,
      "rowLimit": 10000
     },
     "inputWidgets": {},
     "nuid": "5de9f602-73f5-4d20-8c28-c1bb870d59b3",
     "showTitle": false,
     "tableResultSettingsMap": {},
     "title": ""
    }
   },
   "source": [
    "## CSV"
   ]
  },
  {
   "cell_type": "code",
   "execution_count": 0,
   "metadata": {
    "application/vnd.databricks.v1+cell": {
     "cellMetadata": {
      "byteLimit": 2048000,
      "rowLimit": 10000
     },
     "inputWidgets": {},
     "nuid": "4149c627-4566-4aa3-9b1f-7a61c1742d55",
     "showTitle": false,
     "tableResultSettingsMap": {},
     "title": ""
    }
   },
   "outputs": [],
   "source": [
    "path = 'dbfs:/FileStore/sample_data/dirty_cafe_sales.csv' #Load File Path from FIle Explorer"
   ]
  },
  {
   "cell_type": "code",
   "execution_count": 0,
   "metadata": {
    "application/vnd.databricks.v1+cell": {
     "cellMetadata": {
      "byteLimit": 2048000,
      "rowLimit": 10000
     },
     "inputWidgets": {},
     "nuid": "8f99c4c3-f39f-4db0-9265-53d15955162d",
     "showTitle": false,
     "tableResultSettingsMap": {},
     "title": ""
    }
   },
   "outputs": [],
   "source": [
    "cafe_df = (spark.read \n",
    "    .format('csv')                          # Format of File Loaded into Databricks\n",
    "    .option('header','true')                # Use first line as header\n",
    "    .option('inferschema',\"true\")           # Infer data types \n",
    "    .load(path))                            # Path to source file"
   ]
  },
  {
   "cell_type": "code",
   "execution_count": 0,
   "metadata": {
    "application/vnd.databricks.v1+cell": {
     "cellMetadata": {
      "byteLimit": 2048000,
      "rowLimit": 10000
     },
     "inputWidgets": {},
     "nuid": "c9612fd2-423f-447b-afeb-9717335e2045",
     "showTitle": false,
     "tableResultSettingsMap": {},
     "title": ""
    }
   },
   "outputs": [
    {
     "output_type": "display_data",
     "data": {
      "text/html": [
       "<style scoped>\n",
       "  .table-result-container {\n",
       "    max-height: 300px;\n",
       "    overflow: auto;\n",
       "  }\n",
       "  table, th, td {\n",
       "    border: 1px solid black;\n",
       "    border-collapse: collapse;\n",
       "  }\n",
       "  th, td {\n",
       "    padding: 5px;\n",
       "  }\n",
       "  th {\n",
       "    text-align: left;\n",
       "  }\n",
       "</style><div class='table-result-container'><table class='table-result'><thead style='background-color: white'><tr><th>Transaction ID</th><th>Item</th><th>Quantity</th><th>Price Per Unit</th><th>Total Spent</th><th>Payment Method</th><th>Location</th><th>Transaction Date</th></tr></thead><tbody><tr><td>TXN_1961373</td><td>Coffee</td><td>2</td><td>2.0</td><td>4.0</td><td>Credit Card</td><td>Takeaway</td><td>2023-09-08</td></tr><tr><td>TXN_4977031</td><td>Cake</td><td>4</td><td>3.0</td><td>12.0</td><td>Cash</td><td>In-store</td><td>2023-05-16</td></tr><tr><td>TXN_4271903</td><td>Cookie</td><td>4</td><td>1.0</td><td>ERROR</td><td>Credit Card</td><td>In-store</td><td>2023-07-19</td></tr><tr><td>TXN_7034554</td><td>Salad</td><td>2</td><td>5.0</td><td>10.0</td><td>UNKNOWN</td><td>UNKNOWN</td><td>2023-04-27</td></tr><tr><td>TXN_3160411</td><td>Coffee</td><td>2</td><td>2.0</td><td>4.0</td><td>Digital Wallet</td><td>In-store</td><td>2023-06-11</td></tr><tr><td>TXN_2602893</td><td>Smoothie</td><td>5</td><td>4.0</td><td>20.0</td><td>Credit Card</td><td>null</td><td>2023-03-31</td></tr><tr><td>TXN_4433211</td><td>UNKNOWN</td><td>3</td><td>3.0</td><td>9.0</td><td>ERROR</td><td>Takeaway</td><td>2023-10-06</td></tr><tr><td>TXN_6699534</td><td>Sandwich</td><td>4</td><td>4.0</td><td>16.0</td><td>Cash</td><td>UNKNOWN</td><td>2023-10-28</td></tr><tr><td>TXN_4717867</td><td>null</td><td>5</td><td>3.0</td><td>15.0</td><td>null</td><td>Takeaway</td><td>2023-07-28</td></tr><tr><td>TXN_2064365</td><td>Sandwich</td><td>5</td><td>4.0</td><td>20.0</td><td>null</td><td>In-store</td><td>2023-12-31</td></tr></tbody></table></div>"
      ]
     },
     "metadata": {
      "application/vnd.databricks.v1+output": {
       "addedWidgets": {},
       "aggData": [],
       "aggError": "",
       "aggOverflow": false,
       "aggSchema": [],
       "aggSeriesLimitReached": false,
       "aggType": "",
       "arguments": {},
       "columnCustomDisplayInfos": {},
       "data": [
        [
         "TXN_1961373",
         "Coffee",
         "2",
         "2.0",
         "4.0",
         "Credit Card",
         "Takeaway",
         "2023-09-08"
        ],
        [
         "TXN_4977031",
         "Cake",
         "4",
         "3.0",
         "12.0",
         "Cash",
         "In-store",
         "2023-05-16"
        ],
        [
         "TXN_4271903",
         "Cookie",
         "4",
         "1.0",
         "ERROR",
         "Credit Card",
         "In-store",
         "2023-07-19"
        ],
        [
         "TXN_7034554",
         "Salad",
         "2",
         "5.0",
         "10.0",
         "UNKNOWN",
         "UNKNOWN",
         "2023-04-27"
        ],
        [
         "TXN_3160411",
         "Coffee",
         "2",
         "2.0",
         "4.0",
         "Digital Wallet",
         "In-store",
         "2023-06-11"
        ],
        [
         "TXN_2602893",
         "Smoothie",
         "5",
         "4.0",
         "20.0",
         "Credit Card",
         null,
         "2023-03-31"
        ],
        [
         "TXN_4433211",
         "UNKNOWN",
         "3",
         "3.0",
         "9.0",
         "ERROR",
         "Takeaway",
         "2023-10-06"
        ],
        [
         "TXN_6699534",
         "Sandwich",
         "4",
         "4.0",
         "16.0",
         "Cash",
         "UNKNOWN",
         "2023-10-28"
        ],
        [
         "TXN_4717867",
         null,
         "5",
         "3.0",
         "15.0",
         null,
         "Takeaway",
         "2023-07-28"
        ],
        [
         "TXN_2064365",
         "Sandwich",
         "5",
         "4.0",
         "20.0",
         null,
         "In-store",
         "2023-12-31"
        ]
       ],
       "datasetInfos": [],
       "dbfsResultPath": null,
       "isJsonSchema": true,
       "metadata": {},
       "overflow": false,
       "plotOptions": {
        "customPlotOptions": {},
        "displayType": "table",
        "pivotAggregation": null,
        "pivotColumns": null,
        "xColumns": null,
        "yColumns": null
       },
       "removedWidgets": [],
       "schema": [
        {
         "metadata": "{}",
         "name": "Transaction ID",
         "type": "\"string\""
        },
        {
         "metadata": "{}",
         "name": "Item",
         "type": "\"string\""
        },
        {
         "metadata": "{}",
         "name": "Quantity",
         "type": "\"string\""
        },
        {
         "metadata": "{}",
         "name": "Price Per Unit",
         "type": "\"string\""
        },
        {
         "metadata": "{}",
         "name": "Total Spent",
         "type": "\"string\""
        },
        {
         "metadata": "{}",
         "name": "Payment Method",
         "type": "\"string\""
        },
        {
         "metadata": "{}",
         "name": "Location",
         "type": "\"string\""
        },
        {
         "metadata": "{}",
         "name": "Transaction Date",
         "type": "\"string\""
        }
       ],
       "type": "table"
      }
     },
     "output_type": "display_data"
    }
   ],
   "source": [
    "display(cafe_df.head(10)) #Show the first 10 rows"
   ]
  },
  {
   "cell_type": "code",
   "execution_count": 0,
   "metadata": {
    "application/vnd.databricks.v1+cell": {
     "cellMetadata": {
      "byteLimit": 2048000,
      "rowLimit": 10000
     },
     "inputWidgets": {},
     "nuid": "6faac1f6-e324-49f0-99ff-123c38a6b7b8",
     "showTitle": false,
     "tableResultSettingsMap": {},
     "title": ""
    }
   },
   "outputs": [
    {
     "output_type": "execute_result",
     "data": {
      "text/plain": [
       "[('Transaction ID', 'string'),\n",
       " ('Item', 'string'),\n",
       " ('Quantity', 'string'),\n",
       " ('Price Per Unit', 'string'),\n",
       " ('Total Spent', 'string'),\n",
       " ('Payment Method', 'string'),\n",
       " ('Location', 'string'),\n",
       " ('Transaction Date', 'string')]"
      ]
     },
     "execution_count": 4,
     "metadata": {},
     "output_type": "execute_result"
    }
   ],
   "source": [
    "cafe_df.dtypes  # Check data types"
   ]
  },
  {
   "cell_type": "code",
   "execution_count": 0,
   "metadata": {
    "application/vnd.databricks.v1+cell": {
     "cellMetadata": {
      "byteLimit": 2048000,
      "rowLimit": 10000
     },
     "inputWidgets": {},
     "nuid": "5835125b-4a08-4e67-aba6-1215f67bae51",
     "showTitle": false,
     "tableResultSettingsMap": {},
     "title": ""
    }
   },
   "outputs": [
    {
     "output_type": "execute_result",
     "data": {
      "text/plain": [
       "StructType([StructField('Transaction ID', StringType(), True), StructField('Item', StringType(), True), StructField('Quantity', StringType(), True), StructField('Price Per Unit', StringType(), True), StructField('Total Spent', StringType(), True), StructField('Payment Method', StringType(), True), StructField('Location', StringType(), True), StructField('Transaction Date', StringType(), True)])"
      ]
     },
     "execution_count": 5,
     "metadata": {},
     "output_type": "execute_result"
    }
   ],
   "source": [
    "cafe_df.schema #The boolean value shows if the field is nullable"
   ]
  },
  {
   "cell_type": "markdown",
   "metadata": {
    "application/vnd.databricks.v1+cell": {
     "cellMetadata": {
      "byteLimit": 2048000,
      "rowLimit": 10000
     },
     "inputWidgets": {},
     "nuid": "27cbf59c-bc21-42e4-a07e-5ff4e4896d9b",
     "showTitle": false,
     "tableResultSettingsMap": {},
     "title": ""
    }
   },
   "source": [
    "## JSON"
   ]
  },
  {
   "cell_type": "code",
   "execution_count": 0,
   "metadata": {
    "application/vnd.databricks.v1+cell": {
     "cellMetadata": {
      "byteLimit": 2048000,
      "rowLimit": 10000
     },
     "inputWidgets": {},
     "nuid": "4856de6a-9ff9-4a8e-a563-16006285fab4",
     "showTitle": false,
     "tableResultSettingsMap": {},
     "title": ""
    }
   },
   "outputs": [],
   "source": [
    "json_path = 'dbfs:/FileStore/sample_data/countries_single_line.json'\n",
    "\n",
    "countries_df = (spark.read \n",
    "    .format('json')\n",
    "    .option('header','true')\n",
    "    .option('inferschema','true')\n",
    "    .load(json_path))"
   ]
  },
  {
   "cell_type": "code",
   "execution_count": 0,
   "metadata": {
    "application/vnd.databricks.v1+cell": {
     "cellMetadata": {
      "byteLimit": 2048000,
      "rowLimit": 10000
     },
     "inputWidgets": {},
     "nuid": "f04e72ad-1dd0-4af7-b430-78d75813ae9b",
     "showTitle": false,
     "tableResultSettingsMap": {},
     "title": ""
    }
   },
   "outputs": [
    {
     "output_type": "display_data",
     "data": {
      "text/html": [
       "<style scoped>\n",
       "  .table-result-container {\n",
       "    max-height: 300px;\n",
       "    overflow: auto;\n",
       "  }\n",
       "  table, th, td {\n",
       "    border: 1px solid black;\n",
       "    border-collapse: collapse;\n",
       "  }\n",
       "  th, td {\n",
       "    padding: 5px;\n",
       "  }\n",
       "  th {\n",
       "    text-align: left;\n",
       "  }\n",
       "</style><div class='table-result-container'><table class='table-result'><thead style='background-color: white'><tr><th>AREA_KM2</th><th>CAPITAL</th><th>COUNTRY_CODE</th><th>COUNTRY_ID</th><th>INTERMEDIATE_REGION_ID</th><th>ISO_ALPHA2</th><th>NAME</th><th>NATIONALITY</th><th>ORGANIZATION_REGION_ID</th><th>POPULATION</th><th>REGION_ID</th><th>SUB_REGION_ID</th></tr></thead><tbody><tr><td>652230.0</td><td>Kabul</td><td>AFG</td><td>1</td><td>null</td><td>AF</td><td>Afghanistan</td><td>Afghan</td><td>30</td><td>38041754</td><td>30</td><td>30</td></tr><tr><td>28748.0</td><td>Tirana</td><td>ALB</td><td>2</td><td>null</td><td>AL</td><td>Albania</td><td>Albanian</td><td>20</td><td>2880917</td><td>20</td><td>70</td></tr><tr><td>2381741.0</td><td>Algiers</td><td>DZA</td><td>3</td><td>null</td><td>DZ</td><td>Algeria</td><td>Algerian</td><td>20</td><td>43053054</td><td>50</td><td>40</td></tr><tr><td>199.0</td><td>Pago Pago</td><td>ASM</td><td>4</td><td>null</td><td>AS</td><td>American Samoa</td><td>American Samoan</td><td>30</td><td>55312</td><td>40</td><td>20</td></tr><tr><td>468.0</td><td>Andorra la Vella</td><td>AND</td><td>5</td><td>null</td><td>AD</td><td>Andorra</td><td>Andorran</td><td>20</td><td>77142</td><td>20</td><td>70</td></tr><tr><td>1246700.0</td><td>Luanda</td><td>AGO</td><td>6</td><td>80</td><td>AO</td><td>Angola</td><td>Angolan</td><td>20</td><td>31825295</td><td>50</td><td>160</td></tr><tr><td>91.0</td><td>The Valley</td><td>AIA</td><td>7</td><td>60</td><td>AI</td><td>Anguilla</td><td>Anguillan</td><td>40</td><td>14869</td><td>10</td><td>10</td></tr><tr><td>1.42E7</td><td>McMurdo Station</td><td>ATA</td><td>8</td><td>null</td><td>AQ</td><td>Antarctica</td><td>Antarctic</td><td>30</td><td>1106</td><td>40</td><td>null</td></tr><tr><td>442.0</td><td>St. John's</td><td>ATG</td><td>9</td><td>60</td><td>AG</td><td>Antigua and Barbuda</td><td>Antiguan or Barbudan</td><td>40</td><td>97118</td><td>10</td><td>10</td></tr><tr><td>2780400.0</td><td>Buenos Aires</td><td>ARG</td><td>10</td><td>40</td><td>AR</td><td>Argentina</td><td>Argentine</td><td>40</td><td>44780677</td><td>10</td><td>10</td></tr></tbody></table></div>"
      ]
     },
     "metadata": {
      "application/vnd.databricks.v1+output": {
       "addedWidgets": {},
       "aggData": [],
       "aggError": "",
       "aggOverflow": false,
       "aggSchema": [],
       "aggSeriesLimitReached": false,
       "aggType": "",
       "arguments": {},
       "columnCustomDisplayInfos": {},
       "data": [
        [
         652230.0,
         "Kabul",
         "AFG",
         1,
         null,
         "AF",
         "Afghanistan",
         "Afghan",
         30,
         38041754,
         30,
         30
        ],
        [
         28748.0,
         "Tirana",
         "ALB",
         2,
         null,
         "AL",
         "Albania",
         "Albanian",
         20,
         2880917,
         20,
         70
        ],
        [
         2381741.0,
         "Algiers",
         "DZA",
         3,
         null,
         "DZ",
         "Algeria",
         "Algerian",
         20,
         43053054,
         50,
         40
        ],
        [
         199.0,
         "Pago Pago",
         "ASM",
         4,
         null,
         "AS",
         "American Samoa",
         "American Samoan",
         30,
         55312,
         40,
         20
        ],
        [
         468.0,
         "Andorra la Vella",
         "AND",
         5,
         null,
         "AD",
         "Andorra",
         "Andorran",
         20,
         77142,
         20,
         70
        ],
        [
         1246700.0,
         "Luanda",
         "AGO",
         6,
         80,
         "AO",
         "Angola",
         "Angolan",
         20,
         31825295,
         50,
         160
        ],
        [
         91.0,
         "The Valley",
         "AIA",
         7,
         60,
         "AI",
         "Anguilla",
         "Anguillan",
         40,
         14869,
         10,
         10
        ],
        [
         1.42E7,
         "McMurdo Station",
         "ATA",
         8,
         null,
         "AQ",
         "Antarctica",
         "Antarctic",
         30,
         1106,
         40,
         null
        ],
        [
         442.0,
         "St. John's",
         "ATG",
         9,
         60,
         "AG",
         "Antigua and Barbuda",
         "Antiguan or Barbudan",
         40,
         97118,
         10,
         10
        ],
        [
         2780400.0,
         "Buenos Aires",
         "ARG",
         10,
         40,
         "AR",
         "Argentina",
         "Argentine",
         40,
         44780677,
         10,
         10
        ]
       ],
       "datasetInfos": [],
       "dbfsResultPath": null,
       "isJsonSchema": true,
       "metadata": {},
       "overflow": false,
       "plotOptions": {
        "customPlotOptions": {},
        "displayType": "table",
        "pivotAggregation": null,
        "pivotColumns": null,
        "xColumns": null,
        "yColumns": null
       },
       "removedWidgets": [],
       "schema": [
        {
         "metadata": "{}",
         "name": "AREA_KM2",
         "type": "\"double\""
        },
        {
         "metadata": "{}",
         "name": "CAPITAL",
         "type": "\"string\""
        },
        {
         "metadata": "{}",
         "name": "COUNTRY_CODE",
         "type": "\"string\""
        },
        {
         "metadata": "{}",
         "name": "COUNTRY_ID",
         "type": "\"long\""
        },
        {
         "metadata": "{}",
         "name": "INTERMEDIATE_REGION_ID",
         "type": "\"long\""
        },
        {
         "metadata": "{}",
         "name": "ISO_ALPHA2",
         "type": "\"string\""
        },
        {
         "metadata": "{}",
         "name": "NAME",
         "type": "\"string\""
        },
        {
         "metadata": "{}",
         "name": "NATIONALITY",
         "type": "\"string\""
        },
        {
         "metadata": "{}",
         "name": "ORGANIZATION_REGION_ID",
         "type": "\"long\""
        },
        {
         "metadata": "{}",
         "name": "POPULATION",
         "type": "\"long\""
        },
        {
         "metadata": "{}",
         "name": "REGION_ID",
         "type": "\"long\""
        },
        {
         "metadata": "{}",
         "name": "SUB_REGION_ID",
         "type": "\"long\""
        }
       ],
       "type": "table"
      }
     },
     "output_type": "display_data"
    }
   ],
   "source": [
    "display(countries_df.head(10))"
   ]
  },
  {
   "cell_type": "markdown",
   "metadata": {
    "application/vnd.databricks.v1+cell": {
     "cellMetadata": {
      "byteLimit": 2048000,
      "rowLimit": 10000
     },
     "inputWidgets": {},
     "nuid": "744bea4e-41af-4bed-a20b-b4eefabeb9ba",
     "showTitle": false,
     "tableResultSettingsMap": {},
     "title": ""
    }
   },
   "source": [
    "# Multi Line JSON FIle"
   ]
  },
  {
   "cell_type": "code",
   "execution_count": 0,
   "metadata": {
    "application/vnd.databricks.v1+cell": {
     "cellMetadata": {
      "byteLimit": 2048000,
      "rowLimit": 10000
     },
     "inputWidgets": {},
     "nuid": "93a6777b-82b8-476f-9da7-c56800a93d27",
     "showTitle": false,
     "tableResultSettingsMap": {},
     "title": ""
    }
   },
   "outputs": [],
   "source": [
    "json_multi_line_path = 'dbfs:/FileStore/sample_data/countries_multi_line.json'\n",
    "\n",
    "countries_df2 = (spark.read \n",
    "    .format('json')\n",
    "    .option('header','true')\n",
    "    .option('inferschema','true')\n",
    "    .option(\"multiline\",\"true\")    # Must be true to load multi line JSON file.\n",
    "    .load(json_multi_line_path))"
   ]
  },
  {
   "cell_type": "code",
   "execution_count": 0,
   "metadata": {
    "application/vnd.databricks.v1+cell": {
     "cellMetadata": {
      "byteLimit": 2048000,
      "rowLimit": 10000
     },
     "inputWidgets": {},
     "nuid": "4e4d76d0-67a8-4ddc-8b0e-6d084b21c87e",
     "showTitle": false,
     "tableResultSettingsMap": {},
     "title": ""
    }
   },
   "outputs": [],
   "source": [
    "text_path = 'dbfs:/FileStore/sample_data/countries.txt'\n",
    "\n",
    "countries_df3 = (spark.read \n",
    "    .format('csv')                # Load txt files in as CSV\n",
    "    .option('header','true')\n",
    "    .option('inferschema','true')\n",
    "    .option('sep', '\\t')          # seperated by tabs\n",
    "    .load(text_path))"
   ]
  },
  {
   "cell_type": "markdown",
   "metadata": {
    "application/vnd.databricks.v1+cell": {
     "cellMetadata": {
      "byteLimit": 2048000,
      "rowLimit": 10000
     },
     "inputWidgets": {},
     "nuid": "1fcd5311-3de7-43f1-a2ea-a725f59d42d9",
     "showTitle": false,
     "tableResultSettingsMap": {},
     "title": ""
    }
   },
   "source": [
    "# Load Data to Silver Layer"
   ]
  },
  {
   "cell_type": "code",
   "execution_count": 0,
   "metadata": {
    "application/vnd.databricks.v1+cell": {
     "cellMetadata": {
      "byteLimit": 2048000,
      "rowLimit": 10000
     },
     "inputWidgets": {},
     "nuid": "0a0744f8-6ee1-4321-88cf-511641b48c15",
     "showTitle": false,
     "tableResultSettingsMap": {},
     "title": ""
    }
   },
   "outputs": [],
   "source": [
    "cafe_df.createOrReplaceTempView(\"cafe_temp_view\")"
   ]
  },
  {
   "cell_type": "code",
   "execution_count": 0,
   "metadata": {
    "application/vnd.databricks.v1+cell": {
     "cellMetadata": {
      "byteLimit": 2048000,
      "rowLimit": 10000
     },
     "inputWidgets": {},
     "nuid": "5f9336de-da4b-48b2-8e6d-6f75b1d9e74b",
     "showTitle": false,
     "tableResultSettingsMap": {},
     "title": ""
    }
   },
   "outputs": [
    {
     "output_type": "execute_result",
     "data": {
      "text/plain": [
       "'\\n\\ncatalog = \"bronze_prod\"\\nschema = \"bronze_db\"\\ntable_name = \"cafe_bronze\"\\n\\n\\nrole_table = f\"{catalog}.{schema}.{table_name}\"\\n\\n\\nspark.sql(\"SELECT * FROM role_table_view\").write.format(\"delta\").mode(\"overwrite\").option(\"mergeSchema\", \"true\").saveAsTable(role_table)\\n\\n'"
      ]
     },
     "execution_count": 11,
     "metadata": {},
     "output_type": "execute_result"
    }
   ],
   "source": [
    "'''\n",
    "\n",
    "catalog = \"bronze_prod\"\n",
    "schema = \"bronze_db\"\n",
    "table_name = \"cafe_bronze\"\n",
    "\n",
    "\n",
    "role_table = f\"{catalog}.{schema}.{table_name}\"\n",
    "\n",
    "\n",
    "spark.sql(\"SELECT * FROM cafe_temp_view\").write.format(\"delta\").mode(\"overwrite\").option(\"mergeSchema\", \"true\").saveAsTable(role_table)\n",
    "\n",
    "'''"
   ]
  }
 ],
 "metadata": {
  "application/vnd.databricks.v1+notebook": {
   "computePreferences": null,
   "dashboards": [],
   "environmentMetadata": {
    "base_environment": "",
    "client": "1"
   },
   "language": "python",
   "notebookMetadata": {
    "pythonIndentUnit": 4
   },
   "notebookName": "Data Extract and Load Examples",
   "widgets": {}
  }
 },
 "nbformat": 4,
 "nbformat_minor": 0
}
